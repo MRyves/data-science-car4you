{
 "cells": [
  {
   "cell_type": "code",
   "execution_count": 92,
   "metadata": {
    "collapsed": true
   },
   "outputs": [],
   "source": [
    "import re\n",
    "\n",
    "import numpy as np\n",
    "import pandas as pd\n",
    "from sklearn.model_selection import train_test_split\n",
    "from sklearn.linear_model import LinearRegression\n",
    "from sklearn.linear_model import Ridge\n",
    "from sklearn.linear_model import BayesianRidge\n",
    "from sklearn.linear_model import Lasso\n",
    "from sklearn.linear_model import LassoLars\n",
    "from sklearn.linear_model import ElasticNet\n",
    "from sklearn.neighbors import KNeighborsRegressor\n",
    "from sklearn.tree import DecisionTreeRegressor\n",
    "from sklearn.ensemble import RandomForestRegressor\n",
    "import xgboost as xgb\n",
    "\n",
    "from sklearn.metrics import explained_variance_score\n",
    "from sklearn.metrics import max_error\n",
    "from sklearn.metrics import mean_squared_error\n",
    "from sklearn.metrics import mean_absolute_error\n",
    "from sklearn.metrics import r2_score\n",
    "from sklearn.decomposition import PCA\n",
    "from sklearn.pipeline import FeatureUnion, Pipeline\n"
   ]
  },
  {
   "cell_type": "markdown",
   "source": [
    "## Load & prepare data"
   ],
   "metadata": {
    "collapsed": false,
    "pycharm": {
     "name": "#%% md\n"
    }
   }
  },
  {
   "cell_type": "code",
   "execution_count": 2,
   "outputs": [
    {
     "data": {
      "text/plain": "  web-scraper-order                           web-scraper-start-url  \\\n0  1652200447-14927  https://www.carforyou.ch/de/auto/suv?page=1205   \n1   1652197876-3840  https://www.carforyou.ch/de/auto/suv?page=1667   \n2  1652201197-18131  https://www.carforyou.ch/de/auto/suv?page=1071   \n3   1652197512-2221  https://www.carforyou.ch/de/auto/suv?page=1734   \n4  1652204391-31474   https://www.carforyou.ch/de/auto/suv?page=515   \n\n    price_raw                                   marke_modell_raw  \\\n0         NaN                                                NaN   \n1         NaN                                                NaN   \n2  CHF 80’500  Audi Q5 Sportback 45 TFSI Black Edition quattr...   \n3  CHF 39’990                    Audi Q2 35 TDI quattro S-tronic   \n4  CHF 73’000       Jaguar E-Pace 2.0 I4 200 R-Dynamic Black AWD   \n\n             baujahr_km_treibstoff_getriebe_raw  \\\n0                                           NaN   \n1                                           NaN   \n2  2021 · 2’900 km · Elektro/Benzin · Automatik   \n3         2020 · 10’000 km · Diesel · Automatik   \n4     2022 · 45 km · Elektro/Benzin · Automatik   \n\n                                      properties_raw  \\\n0                                                NaN   \n1                                                NaN   \n2                               pricecheckMarktpreis   \n3                      pricecheckÜber dem Marktpreis   \n4  pricecheckÜber dem MarktpreisumbrellaKäuferschutz   \n\n                    garage_raw     garage_place_raw  \\\n0                          NaN                  NaN   \n1                          NaN                  NaN   \n2                          NaN                  NaN   \n3                          NaN                  NaN   \n4  Emil Frey Zürich Altstetten  8048 Zürich, Zürich   \n\n                                     description_raw  \n0                                                NaN  \n1                                                NaN  \n2                                                NaN  \n3  [YS] schwarz - felsgrau[GB1] LTE-Unterstützung...  \n4                                                NaN  ",
      "text/html": "<div>\n<style scoped>\n    .dataframe tbody tr th:only-of-type {\n        vertical-align: middle;\n    }\n\n    .dataframe tbody tr th {\n        vertical-align: top;\n    }\n\n    .dataframe thead th {\n        text-align: right;\n    }\n</style>\n<table border=\"1\" class=\"dataframe\">\n  <thead>\n    <tr style=\"text-align: right;\">\n      <th></th>\n      <th>web-scraper-order</th>\n      <th>web-scraper-start-url</th>\n      <th>price_raw</th>\n      <th>marke_modell_raw</th>\n      <th>baujahr_km_treibstoff_getriebe_raw</th>\n      <th>properties_raw</th>\n      <th>garage_raw</th>\n      <th>garage_place_raw</th>\n      <th>description_raw</th>\n    </tr>\n  </thead>\n  <tbody>\n    <tr>\n      <th>0</th>\n      <td>1652200447-14927</td>\n      <td>https://www.carforyou.ch/de/auto/suv?page=1205</td>\n      <td>NaN</td>\n      <td>NaN</td>\n      <td>NaN</td>\n      <td>NaN</td>\n      <td>NaN</td>\n      <td>NaN</td>\n      <td>NaN</td>\n    </tr>\n    <tr>\n      <th>1</th>\n      <td>1652197876-3840</td>\n      <td>https://www.carforyou.ch/de/auto/suv?page=1667</td>\n      <td>NaN</td>\n      <td>NaN</td>\n      <td>NaN</td>\n      <td>NaN</td>\n      <td>NaN</td>\n      <td>NaN</td>\n      <td>NaN</td>\n    </tr>\n    <tr>\n      <th>2</th>\n      <td>1652201197-18131</td>\n      <td>https://www.carforyou.ch/de/auto/suv?page=1071</td>\n      <td>CHF 80’500</td>\n      <td>Audi Q5 Sportback 45 TFSI Black Edition quattr...</td>\n      <td>2021 · 2’900 km · Elektro/Benzin · Automatik</td>\n      <td>pricecheckMarktpreis</td>\n      <td>NaN</td>\n      <td>NaN</td>\n      <td>NaN</td>\n    </tr>\n    <tr>\n      <th>3</th>\n      <td>1652197512-2221</td>\n      <td>https://www.carforyou.ch/de/auto/suv?page=1734</td>\n      <td>CHF 39’990</td>\n      <td>Audi Q2 35 TDI quattro S-tronic</td>\n      <td>2020 · 10’000 km · Diesel · Automatik</td>\n      <td>pricecheckÜber dem Marktpreis</td>\n      <td>NaN</td>\n      <td>NaN</td>\n      <td>[YS] schwarz - felsgrau[GB1] LTE-Unterstützung...</td>\n    </tr>\n    <tr>\n      <th>4</th>\n      <td>1652204391-31474</td>\n      <td>https://www.carforyou.ch/de/auto/suv?page=515</td>\n      <td>CHF 73’000</td>\n      <td>Jaguar E-Pace 2.0 I4 200 R-Dynamic Black AWD</td>\n      <td>2022 · 45 km · Elektro/Benzin · Automatik</td>\n      <td>pricecheckÜber dem MarktpreisumbrellaKäuferschutz</td>\n      <td>Emil Frey Zürich Altstetten</td>\n      <td>8048 Zürich, Zürich</td>\n      <td>NaN</td>\n    </tr>\n  </tbody>\n</table>\n</div>"
     },
     "execution_count": 2,
     "metadata": {},
     "output_type": "execute_result"
    }
   ],
   "source": [
    "df_raw = pd.read_csv('car4you_suv_all_final.csv', delimiter=';')\n",
    "df_raw.head()"
   ],
   "metadata": {
    "collapsed": false,
    "pycharm": {
     "name": "#%%\n"
    }
   }
  },
  {
   "cell_type": "code",
   "execution_count": 33,
   "outputs": [],
   "source": [
    "from typing import Dict\n",
    "import re\n",
    "\n",
    "\n",
    "def extract_regex(pattern: str, target: str) -> str:\n",
    "    if not pd.isnull(target) and re.search(pattern, target):\n",
    "        return re.findall(pattern, target)[0]\n",
    "    return np.NaN\n",
    "\n",
    "\n",
    "def extract_manufacturer(cell_content) -> str:\n",
    "    if not pd.isnull(cell_content):\n",
    "        return cell_content.split(' ')[0]\n",
    "    return np.NaN\n",
    "\n",
    "\n",
    "def extract_year(cell_content: str) -> int:\n",
    "    year_str = extract_regex(r'[12][0-9]{3}', cell_content)\n",
    "    return np.NaN if pd.isnull(year_str) else int(year_str)\n",
    "\n",
    "\n",
    "def extract_km(cell_content: str) -> int:\n",
    "    km_str = extract_regex(r'\\d*’*\\d+ km', cell_content)\n",
    "    if pd.isnull(km_str):\n",
    "        return np.NaN\n",
    "    km = km_str.replace('’', '').replace(' km', '')\n",
    "    return int(km)\n",
    "\n",
    "\n",
    "def extract_fuel(cell_content: str) -> str:\n",
    "    if \"Elektro/Benzin\" in cell_content or \"Elektro/Diesel\" in cell_content:\n",
    "        return \"Hybrid\"\n",
    "    if \"Benzin\" in cell_content:\n",
    "        return \"Benzin\"\n",
    "    if \"Diesel\" in cell_content:\n",
    "        return \"Diesel\"\n",
    "    if \"Elektro\" in cell_content:\n",
    "        return \"Electro\"\n",
    "\n",
    "    return np.NaN\n",
    "\n",
    "def extract_transmission(cell_content: str) -> str:\n",
    "    if \"Automatik\" in cell_content:\n",
    "        return \"Automate\"\n",
    "    if \"Manuell\" in cell_content:\n",
    "        return \"Manuel\"\n",
    "    return np.NaN\n",
    "\n",
    "def extract_price(cell_content: str) -> str:\n",
    "    if pd.isnull(cell_content):\n",
    "        return np.NaN\n",
    "    return str(cell_content).replace('CHF ', '').replace('’', '')\n",
    "\n",
    "def extract_price_check(cell_content: str) -> str:\n",
    "    if \"Über dem Marktpreis\" in cell_content:\n",
    "        return \"Above market\"\n",
    "    if \"Unter dem Marktpreis\" in cell_content:\n",
    "        return \"Below market\"\n",
    "    if \"Marktpreis\" in cell_content:\n",
    "        return \"Market\"\n",
    "    return np.NaN\n",
    "\n",
    "def row_to_dict(row: pd.Series) -> Dict:\n",
    "    row_dict = {\n",
    "        'manufacturer': extract_manufacturer(row[3]),\n",
    "        'year': extract_year(str(row[4])),\n",
    "        'km': extract_km(str(row[4])),\n",
    "        'fuel': extract_fuel(str(row[4])),\n",
    "        'transmission': extract_transmission(str(row[4])),\n",
    "        'price': extract_price(row[2]),\n",
    "        'price_check': extract_price_check(str(row[5])),\n",
    "    }\n",
    "\n",
    "    return row_dict\n"
   ],
   "metadata": {
    "collapsed": false,
    "pycharm": {
     "name": "#%%\n"
    }
   }
  },
  {
   "cell_type": "code",
   "execution_count": 37,
   "outputs": [
    {
     "data": {
      "text/plain": "  manufacturer    year       km    fuel transmission  price   price_check\n0          NaN     NaN      NaN     NaN          NaN    NaN           NaN\n1          NaN     NaN      NaN     NaN          NaN    NaN           NaN\n2         Audi  2021.0   2900.0  Hybrid     Automate  80500        Market\n3         Audi  2020.0  10000.0  Diesel     Automate  39990  Above market\n4       Jaguar  2022.0     45.0  Hybrid     Automate  73000  Above market",
      "text/html": "<div>\n<style scoped>\n    .dataframe tbody tr th:only-of-type {\n        vertical-align: middle;\n    }\n\n    .dataframe tbody tr th {\n        vertical-align: top;\n    }\n\n    .dataframe thead th {\n        text-align: right;\n    }\n</style>\n<table border=\"1\" class=\"dataframe\">\n  <thead>\n    <tr style=\"text-align: right;\">\n      <th></th>\n      <th>manufacturer</th>\n      <th>year</th>\n      <th>km</th>\n      <th>fuel</th>\n      <th>transmission</th>\n      <th>price</th>\n      <th>price_check</th>\n    </tr>\n  </thead>\n  <tbody>\n    <tr>\n      <th>0</th>\n      <td>NaN</td>\n      <td>NaN</td>\n      <td>NaN</td>\n      <td>NaN</td>\n      <td>NaN</td>\n      <td>NaN</td>\n      <td>NaN</td>\n    </tr>\n    <tr>\n      <th>1</th>\n      <td>NaN</td>\n      <td>NaN</td>\n      <td>NaN</td>\n      <td>NaN</td>\n      <td>NaN</td>\n      <td>NaN</td>\n      <td>NaN</td>\n    </tr>\n    <tr>\n      <th>2</th>\n      <td>Audi</td>\n      <td>2021.0</td>\n      <td>2900.0</td>\n      <td>Hybrid</td>\n      <td>Automate</td>\n      <td>80500</td>\n      <td>Market</td>\n    </tr>\n    <tr>\n      <th>3</th>\n      <td>Audi</td>\n      <td>2020.0</td>\n      <td>10000.0</td>\n      <td>Diesel</td>\n      <td>Automate</td>\n      <td>39990</td>\n      <td>Above market</td>\n    </tr>\n    <tr>\n      <th>4</th>\n      <td>Jaguar</td>\n      <td>2022.0</td>\n      <td>45.0</td>\n      <td>Hybrid</td>\n      <td>Automate</td>\n      <td>73000</td>\n      <td>Above market</td>\n    </tr>\n  </tbody>\n</table>\n</div>"
     },
     "execution_count": 37,
     "metadata": {},
     "output_type": "execute_result"
    }
   ],
   "source": [
    "data_raw = []\n",
    "for index, row in df_raw.iterrows():\n",
    "    data_raw.append(row_to_dict(row))\n",
    "\n",
    "df = pd.DataFrame(data_raw)\n",
    "df.head()"
   ],
   "metadata": {
    "collapsed": false,
    "pycharm": {
     "name": "#%%\n"
    }
   }
  },
  {
   "cell_type": "code",
   "execution_count": 38,
   "outputs": [
    {
     "data": {
      "text/plain": "43897"
     },
     "execution_count": 38,
     "metadata": {},
     "output_type": "execute_result"
    }
   ],
   "source": [
    "len(df)"
   ],
   "metadata": {
    "collapsed": false,
    "pycharm": {
     "name": "#%%\n"
    }
   }
  },
  {
   "cell_type": "code",
   "execution_count": 42,
   "outputs": [
    {
     "data": {
      "text/plain": "12984"
     },
     "execution_count": 42,
     "metadata": {},
     "output_type": "execute_result"
    }
   ],
   "source": [
    "df = df.dropna()\n",
    "len(df)"
   ],
   "metadata": {
    "collapsed": false,
    "pycharm": {
     "name": "#%%\n"
    }
   }
  },
  {
   "cell_type": "code",
   "execution_count": 57,
   "outputs": [
    {
     "data": {
      "text/plain": "  manufacturer  year     km fuel transmission  price   price_check\n2            1  2021   2900    2            0  80500        Market\n3            1  2020  10000    1            0  39990  Above market\n4            9  2022     45    2            0  73000  Above market\n7           28  2021  23336    0            0  29900        Market\n9            2  2019  20400    1            0  36900        Market",
      "text/html": "<div>\n<style scoped>\n    .dataframe tbody tr th:only-of-type {\n        vertical-align: middle;\n    }\n\n    .dataframe tbody tr th {\n        vertical-align: top;\n    }\n\n    .dataframe thead th {\n        text-align: right;\n    }\n</style>\n<table border=\"1\" class=\"dataframe\">\n  <thead>\n    <tr style=\"text-align: right;\">\n      <th></th>\n      <th>manufacturer</th>\n      <th>year</th>\n      <th>km</th>\n      <th>fuel</th>\n      <th>transmission</th>\n      <th>price</th>\n      <th>price_check</th>\n    </tr>\n  </thead>\n  <tbody>\n    <tr>\n      <th>2</th>\n      <td>1</td>\n      <td>2021</td>\n      <td>2900</td>\n      <td>2</td>\n      <td>0</td>\n      <td>80500</td>\n      <td>Market</td>\n    </tr>\n    <tr>\n      <th>3</th>\n      <td>1</td>\n      <td>2020</td>\n      <td>10000</td>\n      <td>1</td>\n      <td>0</td>\n      <td>39990</td>\n      <td>Above market</td>\n    </tr>\n    <tr>\n      <th>4</th>\n      <td>9</td>\n      <td>2022</td>\n      <td>45</td>\n      <td>2</td>\n      <td>0</td>\n      <td>73000</td>\n      <td>Above market</td>\n    </tr>\n    <tr>\n      <th>7</th>\n      <td>28</td>\n      <td>2021</td>\n      <td>23336</td>\n      <td>0</td>\n      <td>0</td>\n      <td>29900</td>\n      <td>Market</td>\n    </tr>\n    <tr>\n      <th>9</th>\n      <td>2</td>\n      <td>2019</td>\n      <td>20400</td>\n      <td>1</td>\n      <td>0</td>\n      <td>36900</td>\n      <td>Market</td>\n    </tr>\n  </tbody>\n</table>\n</div>"
     },
     "execution_count": 57,
     "metadata": {},
     "output_type": "execute_result"
    }
   ],
   "source": [
    "df = df.astype({\n",
    "    'manufacturer': 'category',\n",
    "    'year': 'int32',\n",
    "    'km': 'int32',\n",
    "    'fuel': 'category',\n",
    "    'transmission': 'category',\n",
    "    'price':'int32',\n",
    "    'price_check': 'category'\n",
    "})\n",
    "df.head()"
   ],
   "metadata": {
    "collapsed": false,
    "pycharm": {
     "name": "#%%\n"
    }
   }
  },
  {
   "cell_type": "code",
   "execution_count": 58,
   "outputs": [
    {
     "data": {
      "text/plain": "manufacturer    category\nyear               int32\nkm                 int32\nfuel            category\ntransmission    category\nprice              int32\nprice_check     category\ndtype: object"
     },
     "execution_count": 58,
     "metadata": {},
     "output_type": "execute_result"
    }
   ],
   "source": [
    "df.dtypes"
   ],
   "metadata": {
    "collapsed": false,
    "pycharm": {
     "name": "#%%\n"
    }
   }
  },
  {
   "cell_type": "code",
   "execution_count": 59,
   "outputs": [
    {
     "data": {
      "text/plain": "               year             km          price\ncount  12984.000000   12984.000000   12984.000000\nmean    2017.849045   51624.138324   40839.754390\nstd        3.352763   41881.072839   23523.815691\nmin     1985.000000       1.000000    3900.000000\n25%     2016.000000   14996.750000   25000.000000\n50%     2018.000000   43000.000000   35900.000000\n75%     2020.000000   82637.750000   49890.000000\nmax     2023.000000  244000.000000  259900.000000",
      "text/html": "<div>\n<style scoped>\n    .dataframe tbody tr th:only-of-type {\n        vertical-align: middle;\n    }\n\n    .dataframe tbody tr th {\n        vertical-align: top;\n    }\n\n    .dataframe thead th {\n        text-align: right;\n    }\n</style>\n<table border=\"1\" class=\"dataframe\">\n  <thead>\n    <tr style=\"text-align: right;\">\n      <th></th>\n      <th>year</th>\n      <th>km</th>\n      <th>price</th>\n    </tr>\n  </thead>\n  <tbody>\n    <tr>\n      <th>count</th>\n      <td>12984.000000</td>\n      <td>12984.000000</td>\n      <td>12984.000000</td>\n    </tr>\n    <tr>\n      <th>mean</th>\n      <td>2017.849045</td>\n      <td>51624.138324</td>\n      <td>40839.754390</td>\n    </tr>\n    <tr>\n      <th>std</th>\n      <td>3.352763</td>\n      <td>41881.072839</td>\n      <td>23523.815691</td>\n    </tr>\n    <tr>\n      <th>min</th>\n      <td>1985.000000</td>\n      <td>1.000000</td>\n      <td>3900.000000</td>\n    </tr>\n    <tr>\n      <th>25%</th>\n      <td>2016.000000</td>\n      <td>14996.750000</td>\n      <td>25000.000000</td>\n    </tr>\n    <tr>\n      <th>50%</th>\n      <td>2018.000000</td>\n      <td>43000.000000</td>\n      <td>35900.000000</td>\n    </tr>\n    <tr>\n      <th>75%</th>\n      <td>2020.000000</td>\n      <td>82637.750000</td>\n      <td>49890.000000</td>\n    </tr>\n    <tr>\n      <th>max</th>\n      <td>2023.000000</td>\n      <td>244000.000000</td>\n      <td>259900.000000</td>\n    </tr>\n  </tbody>\n</table>\n</div>"
     },
     "execution_count": 59,
     "metadata": {},
     "output_type": "execute_result"
    }
   ],
   "source": [
    "df.describe()"
   ],
   "metadata": {
    "collapsed": false,
    "pycharm": {
     "name": "#%%\n"
    }
   }
  },
  {
   "cell_type": "code",
   "execution_count": 60,
   "outputs": [],
   "source": [
    "df.manufacturer = df.manufacturer.cat.codes\n",
    "df.transmission = df.transmission.cat.codes\n",
    "df.fuel = df.fuel.cat.codes\n",
    "df.price_check = df.price_check.cat.codes"
   ],
   "metadata": {
    "collapsed": false,
    "pycharm": {
     "name": "#%%\n"
    }
   }
  },
  {
   "cell_type": "code",
   "execution_count": 67,
   "outputs": [
    {
     "data": {
      "text/plain": "1    7583\n0    5401\nName: price_check, dtype: int64"
     },
     "execution_count": 67,
     "metadata": {},
     "output_type": "execute_result"
    }
   ],
   "source": [
    "df.price_check.value_counts()"
   ],
   "metadata": {
    "collapsed": false,
    "pycharm": {
     "name": "#%%\n"
    }
   }
  },
  {
   "cell_type": "markdown",
   "source": [
    "## Outlier analysis"
   ],
   "metadata": {
    "collapsed": false
   }
  },
  {
   "cell_type": "markdown",
   "source": [
    "## Data preparation"
   ],
   "metadata": {
    "collapsed": false
   }
  },
  {
   "cell_type": "code",
   "execution_count": 73,
   "outputs": [],
   "source": [
    "X = df.drop(columns='price')\n",
    "y = df.price\n"
   ],
   "metadata": {
    "collapsed": false,
    "pycharm": {
     "name": "#%%\n"
    }
   }
  },
  {
   "cell_type": "markdown",
   "source": [
    "## Price prediction"
   ],
   "metadata": {
    "collapsed": false
   }
  },
  {
   "cell_type": "code",
   "execution_count": 85,
   "outputs": [],
   "source": [
    "class BenchmarkRegressor:\n",
    "    def __init__(self):\n",
    "        pass\n",
    "\n",
    "    def fit(self, X, y, **kwargs):\n",
    "        self.mean = y.mean()\n",
    "\n",
    "    def predict(self, X):\n",
    "        return [self.mean] * len(X)\n",
    "\n",
    "    def get_params(self, deep=False):\n",
    "        return {}"
   ],
   "metadata": {
    "collapsed": false,
    "pycharm": {
     "name": "#%%\n"
    }
   }
  },
  {
   "cell_type": "code",
   "execution_count": 69,
   "outputs": [],
   "source": [
    "X_train, X_test, y_train, y_test = train_test_split(X, y, test_size=.2, random_state=21, stratify=df.price_check)"
   ],
   "metadata": {
    "collapsed": false,
    "pycharm": {
     "name": "#%%\n"
    }
   }
  },
  {
   "cell_type": "code",
   "execution_count": 90,
   "outputs": [],
   "source": [
    "class BenchmarkRegressor:\n",
    "    def __init__(self):\n",
    "        pass\n",
    "\n",
    "    def fit(self, X, y, **kwargs):\n",
    "        self.mean = y.mean()\n",
    "\n",
    "    def predict(self, X):\n",
    "        return [self.mean] * len(X)\n",
    "\n",
    "    def get_params(self, deep=False):\n",
    "        return {}\n",
    "\n",
    "# The following Models are currently computing used the Standard Parameters. Please keep in mind,\n",
    "# that they need to be optimized using the hyperparameters within the modeling process.\n",
    "\n",
    "bm_regr = BenchmarkRegressor()\n",
    "lr_regr = LinearRegression()\n",
    "ri_regr = Ridge()\n",
    "br_regr = BayesianRidge()\n",
    "ls_regr = Lasso()\n",
    "ll_regr = LassoLars()\n",
    "en_regr = ElasticNet()\n",
    "ne_regr = KNeighborsRegressor()\n",
    "dt_regr = DecisionTreeRegressor()\n",
    "rf_regr = RandomForestRegressor()\n",
    "xg_regr = xgb.XGBRegressor()\n",
    "\n",
    "models = [\n",
    "    ('Benchmark', bm_regr),\n",
    "    ('LR', lr_regr),\n",
    "    ('Ridge', ri_regr),\n",
    "    ('Bayesian Ridge', br_regr),\n",
    "    ('Lasso', ls_regr),\n",
    "    ('LARS Lasso', ll_regr),\n",
    "    ('Elastic Net', en_regr),\n",
    "    ('Nearest Neighbors (KNN) regression', ne_regr),\n",
    "    ('Decision Tree', dt_regr),\n",
    "    ('Random Forest', rf_regr),\n",
    "    ('XGBoost', xg_regr),\n",
    "]"
   ],
   "metadata": {
    "collapsed": false,
    "pycharm": {
     "name": "#%%\n"
    }
   }
  },
  {
   "cell_type": "code",
   "execution_count": 93,
   "outputs": [
    {
     "name": "stdout",
     "output_type": "stream",
     "text": [
      "Model:  Benchmark  | EVS:  0.0\n",
      "Model:  Benchmark  | ME:  209198.93385963223\n",
      "Model:  Benchmark  | MAE:  17215.943403863104\n",
      "Model:  Benchmark  | MSE  23877.230271595836\n",
      "Model:  Benchmark  | RMSE  154.52258822449176\n",
      "Model:  Benchmark  | R2  -0.0008440165256577981\n",
      "----------------\n",
      "Model:  LR  | EVS:  0.25518868161673725\n",
      "Model:  LR  | ME:  206134.78467719074\n",
      "Model:  LR  | MAE:  14477.484201493577\n",
      "Model:  LR  | MSE  20599.704176589537\n",
      "Model:  LR  | RMSE  143.5259703906911\n",
      "Model:  LR  | R2  0.2550614161847786\n",
      "----------------\n",
      "Model:  Ridge  | EVS:  0.2551907770318995\n",
      "Model:  Ridge  | ME:  206134.0777601338\n",
      "Model:  Ridge  | MAE:  14477.484658101212\n",
      "Model:  Ridge  | MSE  20599.675265388283\n",
      "Model:  Ridge  | RMSE  143.5258696729906\n",
      "Model:  Ridge  | R2  0.25506350719094273\n",
      "----------------\n",
      "Model:  Bayesian Ridge  | EVS:  0.1825949170847695\n",
      "Model:  Bayesian Ridge  | ME:  196449.67094845296\n",
      "Model:  Bayesian Ridge  | MAE:  15599.221677692572\n",
      "Model:  Bayesian Ridge  | MSE  21580.4704968459\n",
      "Model:  Bayesian Ridge  | RMSE  146.90292882323993\n",
      "Model:  Bayesian Ridge  | R2  0.18243871153030733\n",
      "----------------\n",
      "Model:  Lasso  | EVS:  0.25519274586400775\n",
      "Model:  Lasso  | ME:  206133.02519455232\n",
      "Model:  Lasso  | MAE:  14477.483533634871\n",
      "Model:  Lasso  | MSE  20599.648112920797\n",
      "Model:  Lasso  | RMSE  143.5257750821113\n",
      "Model:  Lasso  | R2  0.2550654709937996\n",
      "----------------\n",
      "Model:  LARS Lasso  | EVS:  0.255320878056134\n",
      "Model:  LARS Lasso  | ME:  206014.32085951074\n",
      "Model:  LARS Lasso  | MAE:  14475.122587093176\n",
      "Model:  LARS Lasso  | MSE  20597.93836973675\n",
      "Model:  LARS Lasso  | RMSE  143.51981873503306\n",
      "Model:  LARS Lasso  | R2  0.25518912299708285\n",
      "----------------\n",
      "Model:  Elastic Net  | EVS:  0.2543437936147628\n",
      "Model:  Elastic Net  | ME:  204119.39509885752\n",
      "Model:  Elastic Net  | MAE:  14545.495842054308\n",
      "Model:  Elastic Net  | MSE  20611.543819299866\n",
      "Model:  Elastic Net  | RMSE  143.56721011184925\n",
      "Model:  Elastic Net  | R2  0.25420486589824576\n",
      "----------------\n",
      "Model:  Nearest Neighbors (KNN) regression  | EVS:  0.1783149992991877\n",
      "Model:  Nearest Neighbors (KNN) regression  | ME:  211190.2\n",
      "Model:  Nearest Neighbors (KNN) regression  | MAE:  15106.61363111282\n",
      "Model:  Nearest Neighbors (KNN) regression  | MSE  21636.604640313777\n",
      "Model:  Nearest Neighbors (KNN) regression  | RMSE  147.0938633672859\n",
      "Model:  Nearest Neighbors (KNN) regression  | R2  0.17817997303815258\n",
      "----------------\n",
      "Model:  Decision Tree  | EVS:  0.5291171847774571\n",
      "Model:  Decision Tree  | ME:  128000.0\n",
      "Model:  Decision Tree  | MAE:  9866.616859031954\n",
      "Model:  Decision Tree  | MSE  16382.017122592531\n",
      "Model:  Decision Tree  | RMSE  127.99225415075918\n",
      "Model:  Decision Tree  | R2  0.5288781435720651\n",
      "----------------\n"
     ]
    },
    {
     "name": "stderr",
     "output_type": "stream",
     "text": [
      "c:\\users\\yvesh\\.virtualenvs\\data-science-22-car4you\\lib\\site-packages\\sklearn\\linear_model\\_base.py:133: FutureWarning: The default of 'normalize' will be set to False in version 1.2 and deprecated in version 1.4.\n",
      "If you wish to scale the data, use Pipeline with a StandardScaler in a preprocessing stage. To reproduce the previous behavior:\n",
      "\n",
      "from sklearn.pipeline import make_pipeline\n",
      "\n",
      "model = make_pipeline(StandardScaler(with_mean=False), LassoLars())\n",
      "\n",
      "If you wish to pass a sample_weight parameter, you need to pass it as a fit parameter to each step of the pipeline as follows:\n",
      "\n",
      "kwargs = {s[0] + '__sample_weight': sample_weight for s in model.steps}\n",
      "model.fit(X, y, **kwargs)\n",
      "\n",
      "Set parameter alpha to: original_alpha * np.sqrt(n_samples). \n",
      "  warnings.warn(\n"
     ]
    },
    {
     "name": "stdout",
     "output_type": "stream",
     "text": [
      "Model:  Random Forest  | EVS:  0.6737872642885483\n",
      "Model:  Random Forest  | ME:  142816.34\n",
      "Model:  Random Forest  | MAE:  8367.090711575109\n",
      "Model:  Random Forest  | MSE  13635.21320464472\n",
      "Model:  Random Forest  | RMSE  116.76991566599986\n",
      "Model:  Random Forest  | R2  0.6736208795035655\n",
      "----------------\n",
      "Model:  XGBoost  | EVS:  0.6729767258985558\n",
      "Model:  XGBoost  | ME:  159862.7265625\n",
      "Model:  XGBoost  | MAE:  8819.02591246736\n",
      "Model:  XGBoost  | MSE  13651.48204232706\n",
      "Model:  XGBoost  | RMSE  116.83955683897068\n",
      "Model:  XGBoost  | R2  0.672841577185298\n",
      "----------------\n"
     ]
    }
   ],
   "source": [
    "\n",
    "for name, model in models:\n",
    "    pipelined_model = Pipeline([\n",
    "        ('pca', PCA(n_components = 4)),\n",
    "        (name, model)\n",
    "    ])\n",
    "\n",
    "    # Training des Models\n",
    "    pipelined_model.fit(X_train, y_train)\n",
    "\n",
    "    # Vorhersage des trainierten models auf X_test\n",
    "    y_hat = pipelined_model.predict(X_test)\n",
    "\n",
    "    # Berechnung der verschiedenen Messwerte resp. KPI's\n",
    "    EVS = (explained_variance_score(y_test, y_hat))\n",
    "    ME = (max_error(y_test, y_hat))\n",
    "    MAE = (mean_absolute_error(y_test, y_hat))\n",
    "    MSE = np.sqrt(mean_squared_error(y_test, y_hat, squared=True))\n",
    "    RMSE = np.sqrt(mean_squared_error(y_test, y_hat, squared=False))\n",
    "    R2 = r2_score(y_test, y_hat)\n",
    "    print('Model: ', name, ' | EVS: ', EVS)\n",
    "    print('Model: ', name, ' | ME: ', ME)\n",
    "    print('Model: ', name, ' | MAE: ', MAE)\n",
    "    print('Model: ', name, ' | MSE ', MSE)\n",
    "    print('Model: ', name, ' | RMSE ', RMSE)\n",
    "    print('Model: ', name, ' | R2 ', R2)\n",
    "    print('----------------')\n"
   ],
   "metadata": {
    "collapsed": false,
    "pycharm": {
     "name": "#%%\n"
    }
   }
  }
 ],
 "metadata": {
  "kernelspec": {
   "display_name": "Python 3",
   "language": "python",
   "name": "python3"
  },
  "language_info": {
   "codemirror_mode": {
    "name": "ipython",
    "version": 2
   },
   "file_extension": ".py",
   "mimetype": "text/x-python",
   "name": "python",
   "nbconvert_exporter": "python",
   "pygments_lexer": "ipython2",
   "version": "2.7.6"
  }
 },
 "nbformat": 4,
 "nbformat_minor": 0
}