{
 "cells": [
  {
   "cell_type": "code",
   "execution_count": 4,
   "metadata": {
    "collapsed": true
   },
   "outputs": [],
   "source": [
    "import re\n",
    "\n",
    "import numpy as np\n",
    "import pandas as pd"
   ]
  },
  {
   "cell_type": "markdown",
   "source": [
    "## Load & prepare data"
   ],
   "metadata": {
    "collapsed": false,
    "pycharm": {
     "name": "#%% md\n"
    }
   }
  },
  {
   "cell_type": "code",
   "execution_count": 5,
   "outputs": [
    {
     "data": {
      "text/plain": "  web-scraper-order                           web-scraper-start-url  \\\n0  1652200447-14927  https://www.carforyou.ch/de/auto/suv?page=1205   \n1   1652197876-3840  https://www.carforyou.ch/de/auto/suv?page=1667   \n2  1652201197-18131  https://www.carforyou.ch/de/auto/suv?page=1071   \n3   1652197512-2221  https://www.carforyou.ch/de/auto/suv?page=1734   \n4  1652204391-31474   https://www.carforyou.ch/de/auto/suv?page=515   \n\n    price_raw                                   marke_modell_raw  \\\n0         NaN                                                NaN   \n1         NaN                                                NaN   \n2  CHF 80’500  Audi Q5 Sportback 45 TFSI Black Edition quattr...   \n3  CHF 39’990                    Audi Q2 35 TDI quattro S-tronic   \n4  CHF 73’000       Jaguar E-Pace 2.0 I4 200 R-Dynamic Black AWD   \n\n             baujahr_km_treibstoff_getriebe_raw  \\\n0                                           NaN   \n1                                           NaN   \n2  2021 · 2’900 km · Elektro/Benzin · Automatik   \n3         2020 · 10’000 km · Diesel · Automatik   \n4     2022 · 45 km · Elektro/Benzin · Automatik   \n\n                                      properties_raw  \\\n0                                                NaN   \n1                                                NaN   \n2                               pricecheckMarktpreis   \n3                      pricecheckÜber dem Marktpreis   \n4  pricecheckÜber dem MarktpreisumbrellaKäuferschutz   \n\n                    garage_raw     garage_place_raw  \\\n0                          NaN                  NaN   \n1                          NaN                  NaN   \n2                          NaN                  NaN   \n3                          NaN                  NaN   \n4  Emil Frey Zürich Altstetten  8048 Zürich, Zürich   \n\n                                     description_raw  \n0                                                NaN  \n1                                                NaN  \n2                                                NaN  \n3  [YS] schwarz - felsgrau[GB1] LTE-Unterstützung...  \n4                                                NaN  ",
      "text/html": "<div>\n<style scoped>\n    .dataframe tbody tr th:only-of-type {\n        vertical-align: middle;\n    }\n\n    .dataframe tbody tr th {\n        vertical-align: top;\n    }\n\n    .dataframe thead th {\n        text-align: right;\n    }\n</style>\n<table border=\"1\" class=\"dataframe\">\n  <thead>\n    <tr style=\"text-align: right;\">\n      <th></th>\n      <th>web-scraper-order</th>\n      <th>web-scraper-start-url</th>\n      <th>price_raw</th>\n      <th>marke_modell_raw</th>\n      <th>baujahr_km_treibstoff_getriebe_raw</th>\n      <th>properties_raw</th>\n      <th>garage_raw</th>\n      <th>garage_place_raw</th>\n      <th>description_raw</th>\n    </tr>\n  </thead>\n  <tbody>\n    <tr>\n      <th>0</th>\n      <td>1652200447-14927</td>\n      <td>https://www.carforyou.ch/de/auto/suv?page=1205</td>\n      <td>NaN</td>\n      <td>NaN</td>\n      <td>NaN</td>\n      <td>NaN</td>\n      <td>NaN</td>\n      <td>NaN</td>\n      <td>NaN</td>\n    </tr>\n    <tr>\n      <th>1</th>\n      <td>1652197876-3840</td>\n      <td>https://www.carforyou.ch/de/auto/suv?page=1667</td>\n      <td>NaN</td>\n      <td>NaN</td>\n      <td>NaN</td>\n      <td>NaN</td>\n      <td>NaN</td>\n      <td>NaN</td>\n      <td>NaN</td>\n    </tr>\n    <tr>\n      <th>2</th>\n      <td>1652201197-18131</td>\n      <td>https://www.carforyou.ch/de/auto/suv?page=1071</td>\n      <td>CHF 80’500</td>\n      <td>Audi Q5 Sportback 45 TFSI Black Edition quattr...</td>\n      <td>2021 · 2’900 km · Elektro/Benzin · Automatik</td>\n      <td>pricecheckMarktpreis</td>\n      <td>NaN</td>\n      <td>NaN</td>\n      <td>NaN</td>\n    </tr>\n    <tr>\n      <th>3</th>\n      <td>1652197512-2221</td>\n      <td>https://www.carforyou.ch/de/auto/suv?page=1734</td>\n      <td>CHF 39’990</td>\n      <td>Audi Q2 35 TDI quattro S-tronic</td>\n      <td>2020 · 10’000 km · Diesel · Automatik</td>\n      <td>pricecheckÜber dem Marktpreis</td>\n      <td>NaN</td>\n      <td>NaN</td>\n      <td>[YS] schwarz - felsgrau[GB1] LTE-Unterstützung...</td>\n    </tr>\n    <tr>\n      <th>4</th>\n      <td>1652204391-31474</td>\n      <td>https://www.carforyou.ch/de/auto/suv?page=515</td>\n      <td>CHF 73’000</td>\n      <td>Jaguar E-Pace 2.0 I4 200 R-Dynamic Black AWD</td>\n      <td>2022 · 45 km · Elektro/Benzin · Automatik</td>\n      <td>pricecheckÜber dem MarktpreisumbrellaKäuferschutz</td>\n      <td>Emil Frey Zürich Altstetten</td>\n      <td>8048 Zürich, Zürich</td>\n      <td>NaN</td>\n    </tr>\n  </tbody>\n</table>\n</div>"
     },
     "execution_count": 5,
     "metadata": {},
     "output_type": "execute_result"
    }
   ],
   "source": [
    "df_raw = pd.read_csv('car4you_suv_all_final.csv', delimiter=';')\n",
    "df_raw.head()"
   ],
   "metadata": {
    "collapsed": false,
    "pycharm": {
     "name": "#%%\n"
    }
   }
  },
  {
   "cell_type": "code",
   "execution_count": 7,
   "outputs": [
    {
     "data": {
      "text/plain": "   test   test_2\n0     1  another",
      "text/html": "<div>\n<style scoped>\n    .dataframe tbody tr th:only-of-type {\n        vertical-align: middle;\n    }\n\n    .dataframe tbody tr th {\n        vertical-align: top;\n    }\n\n    .dataframe thead th {\n        text-align: right;\n    }\n</style>\n<table border=\"1\" class=\"dataframe\">\n  <thead>\n    <tr style=\"text-align: right;\">\n      <th></th>\n      <th>test</th>\n      <th>test_2</th>\n    </tr>\n  </thead>\n  <tbody>\n    <tr>\n      <th>0</th>\n      <td>1</td>\n      <td>another</td>\n    </tr>\n  </tbody>\n</table>\n</div>"
     },
     "execution_count": 7,
     "metadata": {},
     "output_type": "execute_result"
    }
   ],
   "source": [
    "data_raw = []"
   ],
   "metadata": {
    "collapsed": false,
    "pycharm": {
     "name": "#%%\n"
    }
   }
  },
  {
   "cell_type": "code",
   "execution_count": 62,
   "outputs": [],
   "source": [
    "from typing import Dict\n",
    "import re\n",
    "\n",
    "def extract_regex(pattern: str, target: str) -> str:\n",
    "    if not pd.isnull(target) and re.search(pattern, target):\n",
    "        return re.findall(pattern, target)[0]\n",
    "    return np.NaN\n",
    "\n",
    "def extract_manufacturer(cell_content: str) -> str:\n",
    "    if not pd.isnull(cell_content):\n",
    "        return cell_content.split(' ')[0]\n",
    "    return np.NaN\n",
    "\n",
    "def extract_year(cell_content: str) -> int:\n",
    "    year_str = extract_regex(r'[12][0-9]{3}', cell_content)\n",
    "    return np.NaN if pd.isnull(year_str) else np.int32(year_str)\n",
    "\n",
    "def extract_km(cell_content: str) -> int:\n",
    "    km_str = extract_regex(r'\\d*’*\\d+ km', cell_content)\n",
    "    if pd.isnull(km_str):\n",
    "        print(f'Extracted km: {km_str}')\n",
    "        return np.NaN\n",
    "    km = km_str.replace('’', '').replace(' km', '')\n",
    "    return np.int32(km)\n",
    "\n",
    "def row_to_dict(row: pd.Series) -> Dict:\n",
    "    row_dict = {\n",
    "        'manufacturer': extract_manufacturer(row[3]),\n",
    "        'year': extract_year(row[4]),\n",
    "        'km': extract_km(row[4]),\n",
    "        'fuel': np.NaN,\n",
    "        'transmission': np.NaN,\n",
    "        'price': row[2],\n",
    "        'price_check': np.NaN,\n",
    "    }\n",
    "\n",
    "    print(row_dict)\n"
   ],
   "metadata": {
    "collapsed": false,
    "pycharm": {
     "name": "#%%\n"
    }
   }
  },
  {
   "cell_type": "code",
   "execution_count": 63,
   "outputs": [
    {
     "name": "stdout",
     "output_type": "stream",
     "text": [
      "Extracted km: nan\n",
      "{'manufacturer': nan, 'year': nan, 'km': nan, 'fuel': nan, 'transmission': nan, 'price': nan, 'price_check': nan}\n",
      "Extracted km: nan\n",
      "{'manufacturer': nan, 'year': nan, 'km': nan, 'fuel': nan, 'transmission': nan, 'price': nan, 'price_check': nan}\n",
      "{'manufacturer': 'Audi', 'year': 2021, 'km': 2900, 'fuel': nan, 'transmission': nan, 'price': 'CHF 80’500', 'price_check': nan}\n",
      "{'manufacturer': 'Audi', 'year': 2020, 'km': 10000, 'fuel': nan, 'transmission': nan, 'price': 'CHF 39’990', 'price_check': nan}\n",
      "{'manufacturer': 'Jaguar', 'year': 2022, 'km': 45, 'fuel': nan, 'transmission': nan, 'price': 'CHF 73’000', 'price_check': nan}\n",
      "{'manufacturer': 'BMW', 'year': 2018, 'km': 83465, 'fuel': nan, 'transmission': nan, 'price': 'CHF 44’990', 'price_check': nan}\n",
      "Extracted km: nan\n",
      "{'manufacturer': nan, 'year': nan, 'km': nan, 'fuel': nan, 'transmission': nan, 'price': nan, 'price_check': nan}\n",
      "{'manufacturer': 'VW', 'year': 2021, 'km': 23336, 'fuel': nan, 'transmission': nan, 'price': 'CHF 29’900', 'price_check': nan}\n",
      "{'manufacturer': 'VW', 'year': 2017, 'km': 75000, 'fuel': nan, 'transmission': nan, 'price': 'CHF 33’400', 'price_check': nan}\n",
      "{'manufacturer': 'BMW', 'year': 2019, 'km': 20400, 'fuel': nan, 'transmission': nan, 'price': 'CHF 36’900', 'price_check': nan}\n",
      "{'manufacturer': 'SEAT', 'year': 2019, 'km': 16300, 'fuel': nan, 'transmission': nan, 'price': 'CHF 34’895', 'price_check': nan}\n"
     ]
    }
   ],
   "source": [
    "for index, row in df_raw.iterrows():\n",
    "    row_to_dict(row)\n",
    "    if index == 10:\n",
    "        break\n"
   ],
   "metadata": {
    "collapsed": false,
    "pycharm": {
     "name": "#%%\n"
    }
   }
  }
 ],
 "metadata": {
  "kernelspec": {
   "display_name": "Python 3",
   "language": "python",
   "name": "python3"
  },
  "language_info": {
   "codemirror_mode": {
    "name": "ipython",
    "version": 2
   },
   "file_extension": ".py",
   "mimetype": "text/x-python",
   "name": "python",
   "nbconvert_exporter": "python",
   "pygments_lexer": "ipython2",
   "version": "2.7.6"
  }
 },
 "nbformat": 4,
 "nbformat_minor": 0
}