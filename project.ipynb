{
 "cells": [
  {
   "cell_type": "code",
   "execution_count": 30,
   "metadata": {
    "collapsed": true
   },
   "outputs": [],
   "source": [
    "import re\n",
    "\n",
    "import numpy as np\n",
    "import pandas as pd\n",
    "from currency_converter import CurrencyConverter\n",
    "\n",
    "from sklearn.model_selection import train_test_split\n",
    "from sklearn.linear_model import LinearRegression\n",
    "from sklearn.linear_model import Ridge\n",
    "from sklearn.linear_model import BayesianRidge\n",
    "from sklearn.linear_model import Lasso\n",
    "from sklearn.linear_model import LassoLars\n",
    "from sklearn.linear_model import ElasticNet\n",
    "from sklearn.neighbors import KNeighborsRegressor\n",
    "from sklearn.tree import DecisionTreeRegressor\n",
    "from sklearn.ensemble import RandomForestRegressor\n",
    "import xgboost as xgb\n",
    "\n",
    "from sklearn.metrics import explained_variance_score\n",
    "from sklearn.metrics import max_error\n",
    "from sklearn.metrics import mean_squared_error\n",
    "from sklearn.metrics import mean_absolute_error\n",
    "from sklearn.metrics import r2_score\n",
    "from sklearn.decomposition import PCA\n",
    "from sklearn.pipeline import FeatureUnion, Pipeline\n"
   ]
  },
  {
   "cell_type": "markdown",
   "source": [
    "## Load & prepare data\n",
    "1. Load Car4You dataset\n",
    "2. Load Kaggle dataset: https://www.kaggle.com/datasets/adityadesai13/used-car-dataset-ford-and-mercedes?select=skoda.csv\n",
    "3. Merge datasets"
   ],
   "metadata": {
    "collapsed": false,
    "pycharm": {
     "name": "#%% md\n"
    }
   }
  },
  {
   "cell_type": "code",
   "execution_count": 31,
   "outputs": [
    {
     "data": {
      "text/plain": "  web-scraper-order                           web-scraper-start-url  \\\n0  1652200447-14927  https://www.carforyou.ch/de/auto/suv?page=1205   \n1   1652197876-3840  https://www.carforyou.ch/de/auto/suv?page=1667   \n2  1652201197-18131  https://www.carforyou.ch/de/auto/suv?page=1071   \n3   1652197512-2221  https://www.carforyou.ch/de/auto/suv?page=1734   \n4  1652204391-31474   https://www.carforyou.ch/de/auto/suv?page=515   \n\n    price_raw                                   marke_modell_raw  \\\n0         NaN                                                NaN   \n1         NaN                                                NaN   \n2  CHF 80’500  Audi Q5 Sportback 45 TFSI Black Edition quattr...   \n3  CHF 39’990                    Audi Q2 35 TDI quattro S-tronic   \n4  CHF 73’000       Jaguar E-Pace 2.0 I4 200 R-Dynamic Black AWD   \n\n             baujahr_km_treibstoff_getriebe_raw  \\\n0                                           NaN   \n1                                           NaN   \n2  2021 · 2’900 km · Elektro/Benzin · Automatik   \n3         2020 · 10’000 km · Diesel · Automatik   \n4     2022 · 45 km · Elektro/Benzin · Automatik   \n\n                                      properties_raw  \\\n0                                                NaN   \n1                                                NaN   \n2                               pricecheckMarktpreis   \n3                      pricecheckÜber dem Marktpreis   \n4  pricecheckÜber dem MarktpreisumbrellaKäuferschutz   \n\n                    garage_raw     garage_place_raw  \\\n0                          NaN                  NaN   \n1                          NaN                  NaN   \n2                          NaN                  NaN   \n3                          NaN                  NaN   \n4  Emil Frey Zürich Altstetten  8048 Zürich, Zürich   \n\n                                     description_raw  \n0                                                NaN  \n1                                                NaN  \n2                                                NaN  \n3  [YS] schwarz - felsgrau[GB1] LTE-Unterstützung...  \n4                                                NaN  ",
      "text/html": "<div>\n<style scoped>\n    .dataframe tbody tr th:only-of-type {\n        vertical-align: middle;\n    }\n\n    .dataframe tbody tr th {\n        vertical-align: top;\n    }\n\n    .dataframe thead th {\n        text-align: right;\n    }\n</style>\n<table border=\"1\" class=\"dataframe\">\n  <thead>\n    <tr style=\"text-align: right;\">\n      <th></th>\n      <th>web-scraper-order</th>\n      <th>web-scraper-start-url</th>\n      <th>price_raw</th>\n      <th>marke_modell_raw</th>\n      <th>baujahr_km_treibstoff_getriebe_raw</th>\n      <th>properties_raw</th>\n      <th>garage_raw</th>\n      <th>garage_place_raw</th>\n      <th>description_raw</th>\n    </tr>\n  </thead>\n  <tbody>\n    <tr>\n      <th>0</th>\n      <td>1652200447-14927</td>\n      <td>https://www.carforyou.ch/de/auto/suv?page=1205</td>\n      <td>NaN</td>\n      <td>NaN</td>\n      <td>NaN</td>\n      <td>NaN</td>\n      <td>NaN</td>\n      <td>NaN</td>\n      <td>NaN</td>\n    </tr>\n    <tr>\n      <th>1</th>\n      <td>1652197876-3840</td>\n      <td>https://www.carforyou.ch/de/auto/suv?page=1667</td>\n      <td>NaN</td>\n      <td>NaN</td>\n      <td>NaN</td>\n      <td>NaN</td>\n      <td>NaN</td>\n      <td>NaN</td>\n      <td>NaN</td>\n    </tr>\n    <tr>\n      <th>2</th>\n      <td>1652201197-18131</td>\n      <td>https://www.carforyou.ch/de/auto/suv?page=1071</td>\n      <td>CHF 80’500</td>\n      <td>Audi Q5 Sportback 45 TFSI Black Edition quattr...</td>\n      <td>2021 · 2’900 km · Elektro/Benzin · Automatik</td>\n      <td>pricecheckMarktpreis</td>\n      <td>NaN</td>\n      <td>NaN</td>\n      <td>NaN</td>\n    </tr>\n    <tr>\n      <th>3</th>\n      <td>1652197512-2221</td>\n      <td>https://www.carforyou.ch/de/auto/suv?page=1734</td>\n      <td>CHF 39’990</td>\n      <td>Audi Q2 35 TDI quattro S-tronic</td>\n      <td>2020 · 10’000 km · Diesel · Automatik</td>\n      <td>pricecheckÜber dem Marktpreis</td>\n      <td>NaN</td>\n      <td>NaN</td>\n      <td>[YS] schwarz - felsgrau[GB1] LTE-Unterstützung...</td>\n    </tr>\n    <tr>\n      <th>4</th>\n      <td>1652204391-31474</td>\n      <td>https://www.carforyou.ch/de/auto/suv?page=515</td>\n      <td>CHF 73’000</td>\n      <td>Jaguar E-Pace 2.0 I4 200 R-Dynamic Black AWD</td>\n      <td>2022 · 45 km · Elektro/Benzin · Automatik</td>\n      <td>pricecheckÜber dem MarktpreisumbrellaKäuferschutz</td>\n      <td>Emil Frey Zürich Altstetten</td>\n      <td>8048 Zürich, Zürich</td>\n      <td>NaN</td>\n    </tr>\n  </tbody>\n</table>\n</div>"
     },
     "execution_count": 31,
     "metadata": {},
     "output_type": "execute_result"
    }
   ],
   "source": [
    "df_car4you_raw = pd.read_csv('./data/car4you_suv_all_final.csv', delimiter=';')\n",
    "df_car4you_raw.head()"
   ],
   "metadata": {
    "collapsed": false,
    "pycharm": {
     "name": "#%%\n"
    }
   }
  },
  {
   "cell_type": "code",
   "execution_count": 62,
   "outputs": [],
   "source": [
    "from typing import Dict\n",
    "import re\n",
    "\n",
    "\n",
    "def extract_regex(pattern: str, target: str) -> str:\n",
    "    if not pd.isnull(target) and re.search(pattern, target):\n",
    "        return re.findall(pattern, target)[0]\n",
    "    return np.NaN\n",
    "\n",
    "\n",
    "def extract_manufacturer(cell_content) -> str:\n",
    "    if not pd.isnull(cell_content):\n",
    "        return cell_content.split(' ')[0]\n",
    "    return np.NaN\n",
    "\n",
    "\n",
    "def extract_year(cell_content: str) -> int:\n",
    "    year_str = extract_regex(r'[12][0-9]{3}', cell_content)\n",
    "    return np.NaN if pd.isnull(year_str) else int(year_str)\n",
    "\n",
    "\n",
    "def extract_km(cell_content: str) -> int:\n",
    "    km_str = extract_regex(r'\\d*’*\\d+ km', cell_content)\n",
    "    if pd.isnull(km_str):\n",
    "        return np.NaN\n",
    "    km = km_str.replace('’', '').replace(' km', '')\n",
    "    return int(km)\n",
    "\n",
    "\n",
    "def extract_fuel(cell_content: str) -> str:\n",
    "    if \"Elektro/Benzin\" in cell_content or \"Elektro/Diesel\" in cell_content:\n",
    "        return \"Hybrid\"\n",
    "    if \"Benzin\" in cell_content:\n",
    "        return \"Petrol\"\n",
    "    if \"Diesel\" in cell_content:\n",
    "        return \"Diesel\"\n",
    "    if \"Elektro\" in cell_content:\n",
    "        return \"Electric\"\n",
    "\n",
    "    return np.NaN\n",
    "\n",
    "def extract_transmission(cell_content: str) -> str:\n",
    "    if \"Automatik\" in cell_content:\n",
    "        return \"Automatic\"\n",
    "    if \"Manuell\" in cell_content:\n",
    "        return \"Manual\"\n",
    "    return np.NaN\n",
    "\n",
    "def extract_price(cell_content: str) -> str:\n",
    "    if pd.isnull(cell_content):\n",
    "        return np.NaN\n",
    "    return str(cell_content).replace('CHF ', '').replace('’', '')\n",
    "\n",
    "def extract_price_check(cell_content: str) -> str:\n",
    "    if \"Über dem Marktpreis\" in cell_content:\n",
    "        return \"Above market\"\n",
    "    if \"Unter dem Marktpreis\" in cell_content:\n",
    "        return \"Below market\"\n",
    "    if \"Marktpreis\" in cell_content:\n",
    "        return \"Market\"\n",
    "    return np.NaN\n",
    "\n",
    "def row_to_dict(row: pd.Series) -> Dict:\n",
    "    row_dict = {\n",
    "        'manufacturer': extract_manufacturer(row[3]),\n",
    "        'year': extract_year(str(row[4])),\n",
    "        'km': extract_km(str(row[4])),\n",
    "        'fuel': extract_fuel(str(row[4])),\n",
    "        'transmission': extract_transmission(str(row[4])),\n",
    "        'price': extract_price(row[2]),\n",
    "        'price_check': extract_price_check(str(row[5])),\n",
    "    }\n",
    "\n",
    "    return row_dict\n"
   ],
   "metadata": {
    "collapsed": false,
    "pycharm": {
     "name": "#%%\n"
    }
   }
  },
  {
   "cell_type": "code",
   "execution_count": 63,
   "outputs": [
    {
     "data": {
      "text/plain": "  manufacturer    year       km    fuel transmission  price   price_check\n0          NaN     NaN      NaN     NaN          NaN    NaN           NaN\n1          NaN     NaN      NaN     NaN          NaN    NaN           NaN\n2         Audi  2021.0   2900.0  Hybrid    Automatic  80500        Market\n3         Audi  2020.0  10000.0  Diesel    Automatic  39990  Above market\n4       Jaguar  2022.0     45.0  Hybrid    Automatic  73000  Above market",
      "text/html": "<div>\n<style scoped>\n    .dataframe tbody tr th:only-of-type {\n        vertical-align: middle;\n    }\n\n    .dataframe tbody tr th {\n        vertical-align: top;\n    }\n\n    .dataframe thead th {\n        text-align: right;\n    }\n</style>\n<table border=\"1\" class=\"dataframe\">\n  <thead>\n    <tr style=\"text-align: right;\">\n      <th></th>\n      <th>manufacturer</th>\n      <th>year</th>\n      <th>km</th>\n      <th>fuel</th>\n      <th>transmission</th>\n      <th>price</th>\n      <th>price_check</th>\n    </tr>\n  </thead>\n  <tbody>\n    <tr>\n      <th>0</th>\n      <td>NaN</td>\n      <td>NaN</td>\n      <td>NaN</td>\n      <td>NaN</td>\n      <td>NaN</td>\n      <td>NaN</td>\n      <td>NaN</td>\n    </tr>\n    <tr>\n      <th>1</th>\n      <td>NaN</td>\n      <td>NaN</td>\n      <td>NaN</td>\n      <td>NaN</td>\n      <td>NaN</td>\n      <td>NaN</td>\n      <td>NaN</td>\n    </tr>\n    <tr>\n      <th>2</th>\n      <td>Audi</td>\n      <td>2021.0</td>\n      <td>2900.0</td>\n      <td>Hybrid</td>\n      <td>Automatic</td>\n      <td>80500</td>\n      <td>Market</td>\n    </tr>\n    <tr>\n      <th>3</th>\n      <td>Audi</td>\n      <td>2020.0</td>\n      <td>10000.0</td>\n      <td>Diesel</td>\n      <td>Automatic</td>\n      <td>39990</td>\n      <td>Above market</td>\n    </tr>\n    <tr>\n      <th>4</th>\n      <td>Jaguar</td>\n      <td>2022.0</td>\n      <td>45.0</td>\n      <td>Hybrid</td>\n      <td>Automatic</td>\n      <td>73000</td>\n      <td>Above market</td>\n    </tr>\n  </tbody>\n</table>\n</div>"
     },
     "execution_count": 63,
     "metadata": {},
     "output_type": "execute_result"
    }
   ],
   "source": [
    "data_raw = []\n",
    "for index, row in df_car4you_raw.iterrows():\n",
    "    data_raw.append(row_to_dict(row))\n",
    "\n",
    "df_car4you = pd.DataFrame(data_raw)\n",
    "df_car4you.head()"
   ],
   "metadata": {
    "collapsed": false,
    "pycharm": {
     "name": "#%%\n"
    }
   }
  },
  {
   "cell_type": "code",
   "execution_count": 51,
   "outputs": [],
   "source": [
    "curr_converter = CurrencyConverter('./data/eurofxref.csv')\n",
    "\n",
    "\n",
    "def load_kaggle_dataset(path: str, manufacturer: str) -> pd.DataFrame:\n",
    "    df_raw = pd.read_csv(path).drop(columns=['model', 'tax', 'tax(£)', 'mpg', 'engineSize'], errors='ignore')\n",
    "    df_raw.insert(0, 'manufacturer', manufacturer)\n",
    "    df_raw['price_check'] = 'Market'\n",
    "    df_raw.price = df_raw.price.apply(lambda x: curr_converter.convert(x, 'GBP', 'CHF'))\n",
    "    df_raw.mileage = df_raw.mileage * 1.61\n",
    "    return df_raw.rename(columns={'mileage': 'km', 'fuelType': 'fuel'})"
   ],
   "metadata": {
    "collapsed": false,
    "pycharm": {
     "name": "#%%\n"
    }
   }
  },
  {
   "cell_type": "code",
   "execution_count": 52,
   "outputs": [],
   "source": [
    "df_audi = load_kaggle_dataset('./data/audi.csv', 'Audi')\n",
    "df_bmw = load_kaggle_dataset('./data/bmw.csv', 'BMW')\n",
    "df_merc_c_class = load_kaggle_dataset('./data/cclass.csv', 'Mercedes-Benz')\n",
    "df_merc = load_kaggle_dataset('./data/merc.csv', 'Mercedes-Benz')\n",
    "df_ford_focus = load_kaggle_dataset('./data/focus.csv', 'Ford')\n",
    "df_ford = load_kaggle_dataset('./data/ford.csv', 'Ford')\n",
    "df_hyundai = load_kaggle_dataset('./data/hyundi.csv', 'Hyundai')\n",
    "df_skoda = load_kaggle_dataset('./data/skoda.csv', 'Skoda')\n",
    "df_toyota = load_kaggle_dataset('./data/toyota.csv', 'Toyota')\n",
    "df_vauxhall = load_kaggle_dataset('./data/vauxhall.csv', 'Vauxhall')\n",
    "df_vw = load_kaggle_dataset('./data/vw.csv', 'VW')"
   ],
   "metadata": {
    "collapsed": false,
    "pycharm": {
     "name": "#%%\n"
    }
   }
  },
  {
   "cell_type": "code",
   "execution_count": 64,
   "outputs": [
    {
     "data": {
      "text/plain": "  manufacturer    year       km    fuel transmission  price   price_check\n0          NaN     NaN      NaN     NaN          NaN    NaN           NaN\n1          NaN     NaN      NaN     NaN          NaN    NaN           NaN\n2         Audi  2021.0   2900.0  Hybrid    Automatic  80500        Market\n3         Audi  2020.0  10000.0  Diesel    Automatic  39990  Above market\n4       Jaguar  2022.0     45.0  Hybrid    Automatic  73000  Above market",
      "text/html": "<div>\n<style scoped>\n    .dataframe tbody tr th:only-of-type {\n        vertical-align: middle;\n    }\n\n    .dataframe tbody tr th {\n        vertical-align: top;\n    }\n\n    .dataframe thead th {\n        text-align: right;\n    }\n</style>\n<table border=\"1\" class=\"dataframe\">\n  <thead>\n    <tr style=\"text-align: right;\">\n      <th></th>\n      <th>manufacturer</th>\n      <th>year</th>\n      <th>km</th>\n      <th>fuel</th>\n      <th>transmission</th>\n      <th>price</th>\n      <th>price_check</th>\n    </tr>\n  </thead>\n  <tbody>\n    <tr>\n      <th>0</th>\n      <td>NaN</td>\n      <td>NaN</td>\n      <td>NaN</td>\n      <td>NaN</td>\n      <td>NaN</td>\n      <td>NaN</td>\n      <td>NaN</td>\n    </tr>\n    <tr>\n      <th>1</th>\n      <td>NaN</td>\n      <td>NaN</td>\n      <td>NaN</td>\n      <td>NaN</td>\n      <td>NaN</td>\n      <td>NaN</td>\n      <td>NaN</td>\n    </tr>\n    <tr>\n      <th>2</th>\n      <td>Audi</td>\n      <td>2021.0</td>\n      <td>2900.0</td>\n      <td>Hybrid</td>\n      <td>Automatic</td>\n      <td>80500</td>\n      <td>Market</td>\n    </tr>\n    <tr>\n      <th>3</th>\n      <td>Audi</td>\n      <td>2020.0</td>\n      <td>10000.0</td>\n      <td>Diesel</td>\n      <td>Automatic</td>\n      <td>39990</td>\n      <td>Above market</td>\n    </tr>\n    <tr>\n      <th>4</th>\n      <td>Jaguar</td>\n      <td>2022.0</td>\n      <td>45.0</td>\n      <td>Hybrid</td>\n      <td>Automatic</td>\n      <td>73000</td>\n      <td>Above market</td>\n    </tr>\n  </tbody>\n</table>\n</div>"
     },
     "execution_count": 64,
     "metadata": {},
     "output_type": "execute_result"
    }
   ],
   "source": [
    "df_raw = pd.concat([df_car4you, df_audi, df_bmw, df_merc_c_class, df_merc, df_ford_focus, df_ford, df_hyundai, df_skoda, df_toyota, df_vauxhall, df_vw])\n",
    "df_raw.head()"
   ],
   "metadata": {
    "collapsed": false,
    "pycharm": {
     "name": "#%%\n"
    }
   }
  },
  {
   "cell_type": "code",
   "execution_count": 54,
   "outputs": [
    {
     "data": {
      "text/plain": "Ford             24752\nMercedes-Benz    19699\nVW               17877\nBMW              13968\nVauxhall         13632\nAudi             13129\nToyota            7962\nSkoda             7117\nHyundai           5852\nLand              1563\nJeep              1528\nVolvo             1340\nOpel              1103\nPeugeot            974\nMazda              940\nNissan             865\nSuzuki             839\nPorsche            812\nSubaru             688\nRenault            666\nSEAT               665\nKia                616\nMitsubishi         533\nMini               395\nCitroën            383\nAlfa               380\nJaguar             375\nCUPRA              355\nHonda              322\nDacia              292\nLexus              206\nSsangYong          199\nDodge              191\nFiat               172\nDS                 154\nJAC                127\nCadillac           111\nChevrolet          106\nMaserati           101\nIsuzu               62\nInfiniti            48\nTesla               46\nHummer              41\nDaihatsu            39\nBentley             29\nLamborghini         22\nPuch                17\nLada                 8\nLincoln              8\nAston                6\nGMC                  5\nGenesis              5\nAiways               4\nRolls                3\nIveco                3\nBuick                1\nSaab                 1\nMG                   1\nName: manufacturer, dtype: int64"
     },
     "execution_count": 54,
     "metadata": {},
     "output_type": "execute_result"
    }
   ],
   "source": [
    "df_raw.manufacturer.value_counts()"
   ],
   "metadata": {
    "collapsed": false,
    "pycharm": {
     "name": "#%%\n"
    }
   }
  },
  {
   "cell_type": "code",
   "execution_count": 60,
   "outputs": [
    {
     "data": {
      "text/plain": "Petrol      74301\nDiesel      55135\nHybrid       9806\nElectric     1817\nOther         253\nName: fuel, dtype: int64"
     },
     "execution_count": 60,
     "metadata": {},
     "output_type": "execute_result"
    }
   ],
   "source": [
    "df_raw.fuel.value_counts()"
   ],
   "metadata": {
    "collapsed": false,
    "pycharm": {
     "name": "#%%\n"
    }
   }
  },
  {
   "cell_type": "code",
   "execution_count": 65,
   "outputs": [
    {
     "data": {
      "text/plain": "Manual       65739\nAutomatic    48836\nSemi-Auto    24903\nOther           10\nName: transmission, dtype: int64"
     },
     "execution_count": 65,
     "metadata": {},
     "output_type": "execute_result"
    }
   ],
   "source": [
    "df_raw.transmission.value_counts()"
   ],
   "metadata": {
    "collapsed": false,
    "pycharm": {
     "name": "#%%\n"
    }
   }
  },
  {
   "cell_type": "code",
   "execution_count": 67,
   "outputs": [
    {
     "name": "stdout",
     "output_type": "stream",
     "text": [
      "Length before dropna(): 152437\n",
      "Length after dropna(): 121524\n"
     ]
    }
   ],
   "source": [
    "print(f'Length before dropna(): {len(df_raw)}')\n",
    "df_raw = df_raw.dropna()\n",
    "print(f'Length after dropna(): {len(df_raw)}')"
   ],
   "metadata": {
    "collapsed": false,
    "pycharm": {
     "name": "#%%\n"
    }
   }
  },
  {
   "cell_type": "code",
   "execution_count": 70,
   "outputs": [
    {
     "data": {
      "text/plain": "  manufacturer  year       km    fuel transmission    price   price_check\n2         Audi  2021   2900.0  Hybrid    Automatic  80500.0        Market\n3         Audi  2020  10000.0  Diesel    Automatic  39990.0  Above market\n4       Jaguar  2022     45.0  Hybrid    Automatic  73000.0  Above market\n7           VW  2021  23336.0  Petrol    Automatic  29900.0        Market\n9          BMW  2019  20400.0  Diesel    Automatic  36900.0        Market",
      "text/html": "<div>\n<style scoped>\n    .dataframe tbody tr th:only-of-type {\n        vertical-align: middle;\n    }\n\n    .dataframe tbody tr th {\n        vertical-align: top;\n    }\n\n    .dataframe thead th {\n        text-align: right;\n    }\n</style>\n<table border=\"1\" class=\"dataframe\">\n  <thead>\n    <tr style=\"text-align: right;\">\n      <th></th>\n      <th>manufacturer</th>\n      <th>year</th>\n      <th>km</th>\n      <th>fuel</th>\n      <th>transmission</th>\n      <th>price</th>\n      <th>price_check</th>\n    </tr>\n  </thead>\n  <tbody>\n    <tr>\n      <th>2</th>\n      <td>Audi</td>\n      <td>2021</td>\n      <td>2900.0</td>\n      <td>Hybrid</td>\n      <td>Automatic</td>\n      <td>80500.0</td>\n      <td>Market</td>\n    </tr>\n    <tr>\n      <th>3</th>\n      <td>Audi</td>\n      <td>2020</td>\n      <td>10000.0</td>\n      <td>Diesel</td>\n      <td>Automatic</td>\n      <td>39990.0</td>\n      <td>Above market</td>\n    </tr>\n    <tr>\n      <th>4</th>\n      <td>Jaguar</td>\n      <td>2022</td>\n      <td>45.0</td>\n      <td>Hybrid</td>\n      <td>Automatic</td>\n      <td>73000.0</td>\n      <td>Above market</td>\n    </tr>\n    <tr>\n      <th>7</th>\n      <td>VW</td>\n      <td>2021</td>\n      <td>23336.0</td>\n      <td>Petrol</td>\n      <td>Automatic</td>\n      <td>29900.0</td>\n      <td>Market</td>\n    </tr>\n    <tr>\n      <th>9</th>\n      <td>BMW</td>\n      <td>2019</td>\n      <td>20400.0</td>\n      <td>Diesel</td>\n      <td>Automatic</td>\n      <td>36900.0</td>\n      <td>Market</td>\n    </tr>\n  </tbody>\n</table>\n</div>"
     },
     "execution_count": 70,
     "metadata": {},
     "output_type": "execute_result"
    }
   ],
   "source": [
    "df = df_raw.astype({\n",
    "    'manufacturer': 'category',\n",
    "    'year': 'int32',\n",
    "    'km': 'float',\n",
    "    'fuel': 'category',\n",
    "    'transmission': 'category',\n",
    "    'price':'float',\n",
    "    'price_check': 'category'\n",
    "})\n",
    "df.head()"
   ],
   "metadata": {
    "collapsed": false,
    "pycharm": {
     "name": "#%%\n"
    }
   }
  },
  {
   "cell_type": "code",
   "execution_count": 71,
   "outputs": [
    {
     "data": {
      "text/plain": "manufacturer    category\nyear               int32\nkm               float64\nfuel            category\ntransmission    category\nprice            float64\nprice_check     category\ndtype: object"
     },
     "execution_count": 71,
     "metadata": {},
     "output_type": "execute_result"
    }
   ],
   "source": [
    "df.dtypes"
   ],
   "metadata": {
    "collapsed": false,
    "pycharm": {
     "name": "#%%\n"
    }
   }
  },
  {
   "cell_type": "code",
   "execution_count": 72,
   "outputs": [
    {
     "data": {
      "text/plain": "                year             km          price\ncount  121524.000000  121524.000000  121524.000000\nmean     2017.178269   38626.567562   22769.512632\nstd         2.303724   35296.025976   14991.364453\nmin      1970.000000       1.000000     549.051284\n25%      2016.000000   12186.090000   12870.372144\n50%      2017.000000   28947.800000   18950.810080\n75%      2019.000000   54494.072500   28050.420020\nmax      2060.000000  520030.000000  259900.000000",
      "text/html": "<div>\n<style scoped>\n    .dataframe tbody tr th:only-of-type {\n        vertical-align: middle;\n    }\n\n    .dataframe tbody tr th {\n        vertical-align: top;\n    }\n\n    .dataframe thead th {\n        text-align: right;\n    }\n</style>\n<table border=\"1\" class=\"dataframe\">\n  <thead>\n    <tr style=\"text-align: right;\">\n      <th></th>\n      <th>year</th>\n      <th>km</th>\n      <th>price</th>\n    </tr>\n  </thead>\n  <tbody>\n    <tr>\n      <th>count</th>\n      <td>121524.000000</td>\n      <td>121524.000000</td>\n      <td>121524.000000</td>\n    </tr>\n    <tr>\n      <th>mean</th>\n      <td>2017.178269</td>\n      <td>38626.567562</td>\n      <td>22769.512632</td>\n    </tr>\n    <tr>\n      <th>std</th>\n      <td>2.303724</td>\n      <td>35296.025976</td>\n      <td>14991.364453</td>\n    </tr>\n    <tr>\n      <th>min</th>\n      <td>1970.000000</td>\n      <td>1.000000</td>\n      <td>549.051284</td>\n    </tr>\n    <tr>\n      <th>25%</th>\n      <td>2016.000000</td>\n      <td>12186.090000</td>\n      <td>12870.372144</td>\n    </tr>\n    <tr>\n      <th>50%</th>\n      <td>2017.000000</td>\n      <td>28947.800000</td>\n      <td>18950.810080</td>\n    </tr>\n    <tr>\n      <th>75%</th>\n      <td>2019.000000</td>\n      <td>54494.072500</td>\n      <td>28050.420020</td>\n    </tr>\n    <tr>\n      <th>max</th>\n      <td>2060.000000</td>\n      <td>520030.000000</td>\n      <td>259900.000000</td>\n    </tr>\n  </tbody>\n</table>\n</div>"
     },
     "execution_count": 72,
     "metadata": {},
     "output_type": "execute_result"
    }
   ],
   "source": [
    "df.describe()"
   ],
   "metadata": {
    "collapsed": false,
    "pycharm": {
     "name": "#%%\n"
    }
   }
  },
  {
   "cell_type": "code",
   "execution_count": 73,
   "outputs": [],
   "source": [
    "df.manufacturer = df.manufacturer.cat.codes\n",
    "df.transmission = df.transmission.cat.codes\n",
    "df.fuel = df.fuel.cat.codes\n",
    "df.price_check = df.price_check.cat.codes"
   ],
   "metadata": {
    "collapsed": false,
    "pycharm": {
     "name": "#%%\n"
    }
   }
  },
  {
   "cell_type": "code",
   "execution_count": 74,
   "outputs": [
    {
     "data": {
      "text/plain": "1    116123\n0      5401\nName: price_check, dtype: int64"
     },
     "execution_count": 74,
     "metadata": {},
     "output_type": "execute_result"
    }
   ],
   "source": [
    "df.price_check.value_counts()"
   ],
   "metadata": {
    "collapsed": false,
    "pycharm": {
     "name": "#%%\n"
    }
   }
  },
  {
   "cell_type": "markdown",
   "source": [
    "## Outlier analysis"
   ],
   "metadata": {
    "collapsed": false
   }
  },
  {
   "cell_type": "markdown",
   "source": [
    "## Data preparation"
   ],
   "metadata": {
    "collapsed": false
   }
  },
  {
   "cell_type": "code",
   "execution_count": 75,
   "outputs": [],
   "source": [
    "X = df.drop(columns='price')\n",
    "y = df.price\n"
   ],
   "metadata": {
    "collapsed": false,
    "pycharm": {
     "name": "#%%\n"
    }
   }
  },
  {
   "cell_type": "markdown",
   "source": [
    "## Price prediction"
   ],
   "metadata": {
    "collapsed": false
   }
  },
  {
   "cell_type": "code",
   "execution_count": 76,
   "outputs": [],
   "source": [
    "class BenchmarkRegressor:\n",
    "    def __init__(self):\n",
    "        pass\n",
    "\n",
    "    def fit(self, X, y, **kwargs):\n",
    "        self.mean = y.mean()\n",
    "\n",
    "    def predict(self, X):\n",
    "        return [self.mean] * len(X)\n",
    "\n",
    "    def get_params(self, deep=False):\n",
    "        return {}"
   ],
   "metadata": {
    "collapsed": false,
    "pycharm": {
     "name": "#%%\n"
    }
   }
  },
  {
   "cell_type": "code",
   "execution_count": 77,
   "outputs": [],
   "source": [
    "X_train, X_test, y_train, y_test = train_test_split(X, y, test_size=.2, random_state=21, stratify=df.price_check)"
   ],
   "metadata": {
    "collapsed": false,
    "pycharm": {
     "name": "#%%\n"
    }
   }
  },
  {
   "cell_type": "code",
   "execution_count": 78,
   "outputs": [],
   "source": [
    "class BenchmarkRegressor:\n",
    "    def __init__(self):\n",
    "        pass\n",
    "\n",
    "    def fit(self, X, y, **kwargs):\n",
    "        self.mean = y.mean()\n",
    "\n",
    "    def predict(self, X):\n",
    "        return [self.mean] * len(X)\n",
    "\n",
    "    def get_params(self, deep=False):\n",
    "        return {}\n",
    "\n",
    "# The following Models are currently computing used the Standard Parameters. Please keep in mind,\n",
    "# that they need to be optimized using the hyperparameters within the modeling process.\n",
    "\n",
    "bm_regr = BenchmarkRegressor()\n",
    "lr_regr = LinearRegression()\n",
    "ri_regr = Ridge()\n",
    "br_regr = BayesianRidge()\n",
    "ls_regr = Lasso()\n",
    "ll_regr = LassoLars()\n",
    "en_regr = ElasticNet()\n",
    "ne_regr = KNeighborsRegressor()\n",
    "dt_regr = DecisionTreeRegressor()\n",
    "rf_regr = RandomForestRegressor()\n",
    "xg_regr = xgb.XGBRegressor()\n",
    "\n",
    "models = [\n",
    "    ('Benchmark', bm_regr),\n",
    "    ('LR', lr_regr),\n",
    "    ('Ridge', ri_regr),\n",
    "    ('Bayesian Ridge', br_regr),\n",
    "    ('Lasso', ls_regr),\n",
    "    ('LARS Lasso', ll_regr),\n",
    "    ('Elastic Net', en_regr),\n",
    "    ('Nearest Neighbors (KNN) regression', ne_regr),\n",
    "    ('Decision Tree', dt_regr),\n",
    "    ('Random Forest', rf_regr),\n",
    "    ('XGBoost', xg_regr),\n",
    "]"
   ],
   "metadata": {
    "collapsed": false,
    "pycharm": {
     "name": "#%%\n"
    }
   }
  },
  {
   "cell_type": "code",
   "execution_count": 79,
   "outputs": [
    {
     "name": "stdout",
     "output_type": "stream",
     "text": [
      "Model:  Benchmark  | EVS:  2.220446049250313e-16\n",
      "Model:  Benchmark  | ME:  227138.12594660855\n",
      "Model:  Benchmark  | MAE:  10400.27114315184\n",
      "Model:  Benchmark  | MSE  15067.991207570254\n",
      "Model:  Benchmark  | RMSE  122.75174625059415\n",
      "Model:  Benchmark  | R2  -6.4246579267734916e-06\n",
      "----------------\n",
      "Model:  LR  | EVS:  0.2869564624807597\n",
      "Model:  LR  | ME:  224455.52638555816\n",
      "Model:  LR  | MAE:  8169.171119461458\n",
      "Model:  LR  | MSE  12723.658515065552\n",
      "Model:  LR  | RMSE  112.79919554263475\n",
      "Model:  LR  | R2  0.2869564044838522\n",
      "----------------\n",
      "Model:  Ridge  | EVS:  0.2869564830091914\n",
      "Model:  Ridge  | ME:  224455.5246335601\n",
      "Model:  Ridge  | MAE:  8169.170583269668\n",
      "Model:  Ridge  | MSE  12723.658331921668\n",
      "Model:  Ridge  | RMSE  112.79919473082096\n",
      "Model:  Ridge  | R2  0.2869564250108999\n",
      "----------------\n",
      "Model:  Bayesian Ridge  | EVS:  0.2869575351040806\n",
      "Model:  Bayesian Ridge  | ME:  224455.4343554694\n",
      "Model:  Bayesian Ridge  | MAE:  8169.1429742716655\n",
      "Model:  Bayesian Ridge  | MSE  12723.64894568372\n",
      "Model:  Bayesian Ridge  | RMSE  112.79915312485161\n",
      "Model:  Bayesian Ridge  | R2  0.28695747703446384\n",
      "----------------\n",
      "Model:  Lasso  | EVS:  0.28695739628165007\n",
      "Model:  Lasso  | ME:  224455.37557262153\n",
      "Model:  Lasso  | MAE:  8169.1514651625075\n",
      "Model:  Lasso  | MSE  12723.650183976533\n",
      "Model:  Lasso  | RMSE  112.79915861377927\n",
      "Model:  Lasso  | R2  0.28695733824480085\n",
      "----------------\n",
      "Model:  LARS Lasso  | EVS:  0.28617567911996966\n",
      "Model:  LARS Lasso  | ME:  224549.24058210663\n",
      "Model:  LARS Lasso  | MAE:  8167.578899213932\n",
      "Model:  LARS Lasso  | MSE  12730.622324775673\n",
      "Model:  LARS Lasso  | RMSE  112.83005949114657\n",
      "Model:  LARS Lasso  | R2  0.28617567640208086\n",
      "----------------\n"
     ]
    },
    {
     "name": "stderr",
     "output_type": "stream",
     "text": [
      "c:\\users\\yvesh\\.virtualenvs\\data-science-22-car4you\\lib\\site-packages\\sklearn\\linear_model\\_base.py:133: FutureWarning: The default of 'normalize' will be set to False in version 1.2 and deprecated in version 1.4.\n",
      "If you wish to scale the data, use Pipeline with a StandardScaler in a preprocessing stage. To reproduce the previous behavior:\n",
      "\n",
      "from sklearn.pipeline import make_pipeline\n",
      "\n",
      "model = make_pipeline(StandardScaler(with_mean=False), LassoLars())\n",
      "\n",
      "If you wish to pass a sample_weight parameter, you need to pass it as a fit parameter to each step of the pipeline as follows:\n",
      "\n",
      "kwargs = {s[0] + '__sample_weight': sample_weight for s in model.steps}\n",
      "model.fit(X, y, **kwargs)\n",
      "\n",
      "Set parameter alpha to: original_alpha * np.sqrt(n_samples). \n",
      "  warnings.warn(\n"
     ]
    },
    {
     "name": "stdout",
     "output_type": "stream",
     "text": [
      "Model:  Elastic Net  | EVS:  0.28441743738324965\n",
      "Model:  Elastic Net  | ME:  224367.0547997509\n",
      "Model:  Elastic Net  | MAE:  8176.108240681918\n",
      "Model:  Elastic Net  | MSE  12746.292346528084\n",
      "Model:  Elastic Net  | RMSE  112.89947894710623\n",
      "Model:  Elastic Net  | R2  0.284417313526812\n",
      "----------------\n",
      "Model:  Nearest Neighbors (KNN) regression  | EVS:  0.3525064305739556\n",
      "Model:  Nearest Neighbors (KNN) regression  | ME:  209816.0\n",
      "Model:  Nearest Neighbors (KNN) regression  | MAE:  7789.025435285631\n",
      "Model:  Nearest Neighbors (KNN) regression  | MSE  12128.251695764515\n",
      "Model:  Nearest Neighbors (KNN) regression  | RMSE  110.1283419277913\n",
      "Model:  Nearest Neighbors (KNN) regression  | R2  0.3521290955868309\n",
      "----------------\n",
      "Model:  Decision Tree  | EVS:  0.537607368783831\n",
      "Model:  Decision Tree  | ME:  210969.41706318903\n",
      "Model:  Decision Tree  | MAE:  5368.124933095986\n",
      "Model:  Decision Tree  | MSE  10246.216069286214\n",
      "Model:  Decision Tree  | RMSE  101.22359442978804\n",
      "Model:  Decision Tree  | R2  0.5375986495382432\n",
      "----------------\n",
      "Model:  Random Forest  | EVS:  0.6592835495505467\n",
      "Model:  Random Forest  | ME:  208139.94645961633\n",
      "Model:  Random Forest  | MAE:  4894.888460982816\n",
      "Model:  Random Forest  | MSE  8795.745063359107\n",
      "Model:  Random Forest  | RMSE  93.7856335659098\n",
      "Model:  Random Forest  | R2  0.6592488419701055\n",
      "----------------\n",
      "Model:  XGBoost  | EVS:  0.701018753718058\n",
      "Model:  XGBoost  | ME:  163061.5625\n",
      "Model:  XGBoost  | MAE:  4932.761049298268\n",
      "Model:  XGBoost  | MSE  8239.351127804995\n",
      "Model:  XGBoost  | RMSE  90.77087158227025\n",
      "Model:  XGBoost  | R2  0.7009952440702409\n",
      "----------------\n"
     ]
    }
   ],
   "source": [
    "\n",
    "for name, model in models:\n",
    "    pipelined_model = Pipeline([\n",
    "        ('pca', PCA(n_components = 4)),\n",
    "        (name, model)\n",
    "    ])\n",
    "\n",
    "    # Training des Models\n",
    "    pipelined_model.fit(X_train, y_train)\n",
    "\n",
    "    # Vorhersage des trainierten models auf X_test\n",
    "    y_hat = pipelined_model.predict(X_test)\n",
    "\n",
    "    # Berechnung der verschiedenen Messwerte resp. KPI's\n",
    "    EVS = (explained_variance_score(y_test, y_hat))\n",
    "    ME = (max_error(y_test, y_hat))\n",
    "    MAE = (mean_absolute_error(y_test, y_hat))\n",
    "    MSE = np.sqrt(mean_squared_error(y_test, y_hat, squared=True))\n",
    "    RMSE = np.sqrt(mean_squared_error(y_test, y_hat, squared=False))\n",
    "    R2 = r2_score(y_test, y_hat)\n",
    "    print('Model: ', name, ' | EVS: ', EVS)\n",
    "    print('Model: ', name, ' | ME: ', ME)\n",
    "    print('Model: ', name, ' | MAE: ', MAE)\n",
    "    print('Model: ', name, ' | MSE ', MSE)\n",
    "    print('Model: ', name, ' | RMSE ', RMSE)\n",
    "    print('Model: ', name, ' | R2 ', R2)\n",
    "    print('----------------')\n"
   ],
   "metadata": {
    "collapsed": false,
    "pycharm": {
     "name": "#%%\n"
    }
   }
  }
 ],
 "metadata": {
  "kernelspec": {
   "display_name": "Python 3",
   "language": "python",
   "name": "python3"
  },
  "language_info": {
   "codemirror_mode": {
    "name": "ipython",
    "version": 2
   },
   "file_extension": ".py",
   "mimetype": "text/x-python",
   "name": "python",
   "nbconvert_exporter": "python",
   "pygments_lexer": "ipython2",
   "version": "2.7.6"
  }
 },
 "nbformat": 4,
 "nbformat_minor": 0
}