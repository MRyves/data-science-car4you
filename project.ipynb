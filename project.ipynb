{
 "cells": [
  {
   "cell_type": "code",
   "execution_count": 1,
   "metadata": {},
   "outputs": [
    {
     "name": "stderr",
     "output_type": "stream",
     "text": [
      "C:\\Users\\dakol\\anaconda3\\lib\\site-packages\\xgboost\\compat.py:36: FutureWarning: pandas.Int64Index is deprecated and will be removed from pandas in a future version. Use pandas.Index with the appropriate dtype instead.\n",
      "  from pandas import MultiIndex, Int64Index\n"
     ]
    }
   ],
   "source": [
    "import re\n",
    "\n",
    "import numpy as np\n",
    "import pandas as pd\n",
    "import matplotlib.pyplot as plt\n",
    "import seaborn as sns\n",
    "from scipy import stats\n",
    "from currency_converter import CurrencyConverter\n",
    "\n",
    "from sklearn.model_selection import train_test_split, KFold, cross_val_score\n",
    "from sklearn.linear_model import LinearRegression\n",
    "from sklearn.linear_model import Ridge\n",
    "from sklearn.linear_model import BayesianRidge\n",
    "from sklearn.linear_model import Lasso\n",
    "from sklearn.linear_model import LassoLars\n",
    "from sklearn.linear_model import ElasticNet\n",
    "from sklearn.neighbors import KNeighborsRegressor\n",
    "from sklearn.tree import DecisionTreeRegressor\n",
    "from sklearn.ensemble import RandomForestRegressor\n",
    "import xgboost as xgb\n",
    "\n",
    "from sklearn.metrics import explained_variance_score\n",
    "from sklearn.metrics import max_error\n",
    "from sklearn.metrics import mean_squared_error\n",
    "from sklearn.metrics import mean_absolute_error\n",
    "from sklearn.metrics import r2_score\n",
    "from sklearn.decomposition import PCA\n",
    "from sklearn.pipeline import FeatureUnion, Pipeline"
   ]
  },
  {
   "cell_type": "code",
   "execution_count": null,
   "metadata": {},
   "outputs": [],
   "source": []
  },
  {
   "cell_type": "markdown",
   "metadata": {
    "pycharm": {
     "name": "#%% md\n"
    }
   },
   "source": [
    "# Load & prepare data\n",
    "1. Load Car4You dataset\n",
    "2. Load Kaggle dataset: https://www.kaggle.com/datasets/adityadesai13/used-car-dataset-ford-and-mercedes?select=skoda.csv\n",
    "3. Merge datasets"
   ]
  },
  {
   "cell_type": "code",
   "execution_count": 2,
   "metadata": {
    "pycharm": {
     "name": "#%%\n"
    }
   },
   "outputs": [
    {
     "data": {
      "text/html": [
       "<div>\n",
       "<style scoped>\n",
       "    .dataframe tbody tr th:only-of-type {\n",
       "        vertical-align: middle;\n",
       "    }\n",
       "\n",
       "    .dataframe tbody tr th {\n",
       "        vertical-align: top;\n",
       "    }\n",
       "\n",
       "    .dataframe thead th {\n",
       "        text-align: right;\n",
       "    }\n",
       "</style>\n",
       "<table border=\"1\" class=\"dataframe\">\n",
       "  <thead>\n",
       "    <tr style=\"text-align: right;\">\n",
       "      <th></th>\n",
       "      <th>web-scraper-order</th>\n",
       "      <th>web-scraper-start-url</th>\n",
       "      <th>price_raw</th>\n",
       "      <th>marke_modell_raw</th>\n",
       "      <th>baujahr_km_treibstoff_getriebe_raw</th>\n",
       "      <th>properties_raw</th>\n",
       "      <th>garage_raw</th>\n",
       "      <th>garage_place_raw</th>\n",
       "      <th>description_raw</th>\n",
       "    </tr>\n",
       "  </thead>\n",
       "  <tbody>\n",
       "    <tr>\n",
       "      <th>0</th>\n",
       "      <td>1652200447-14927</td>\n",
       "      <td>https://www.carforyou.ch/de/auto/suv?page=1205</td>\n",
       "      <td>NaN</td>\n",
       "      <td>NaN</td>\n",
       "      <td>NaN</td>\n",
       "      <td>NaN</td>\n",
       "      <td>NaN</td>\n",
       "      <td>NaN</td>\n",
       "      <td>NaN</td>\n",
       "    </tr>\n",
       "    <tr>\n",
       "      <th>1</th>\n",
       "      <td>1652197876-3840</td>\n",
       "      <td>https://www.carforyou.ch/de/auto/suv?page=1667</td>\n",
       "      <td>NaN</td>\n",
       "      <td>NaN</td>\n",
       "      <td>NaN</td>\n",
       "      <td>NaN</td>\n",
       "      <td>NaN</td>\n",
       "      <td>NaN</td>\n",
       "      <td>NaN</td>\n",
       "    </tr>\n",
       "    <tr>\n",
       "      <th>2</th>\n",
       "      <td>1652201197-18131</td>\n",
       "      <td>https://www.carforyou.ch/de/auto/suv?page=1071</td>\n",
       "      <td>CHF 80’500</td>\n",
       "      <td>Audi Q5 Sportback 45 TFSI Black Edition quattr...</td>\n",
       "      <td>2021 · 2’900 km · Elektro/Benzin · Automatik</td>\n",
       "      <td>pricecheckMarktpreis</td>\n",
       "      <td>NaN</td>\n",
       "      <td>NaN</td>\n",
       "      <td>NaN</td>\n",
       "    </tr>\n",
       "    <tr>\n",
       "      <th>3</th>\n",
       "      <td>1652197512-2221</td>\n",
       "      <td>https://www.carforyou.ch/de/auto/suv?page=1734</td>\n",
       "      <td>CHF 39’990</td>\n",
       "      <td>Audi Q2 35 TDI quattro S-tronic</td>\n",
       "      <td>2020 · 10’000 km · Diesel · Automatik</td>\n",
       "      <td>pricecheckÜber dem Marktpreis</td>\n",
       "      <td>NaN</td>\n",
       "      <td>NaN</td>\n",
       "      <td>[YS] schwarz - felsgrau[GB1] LTE-Unterstützung...</td>\n",
       "    </tr>\n",
       "    <tr>\n",
       "      <th>4</th>\n",
       "      <td>1652204391-31474</td>\n",
       "      <td>https://www.carforyou.ch/de/auto/suv?page=515</td>\n",
       "      <td>CHF 73’000</td>\n",
       "      <td>Jaguar E-Pace 2.0 I4 200 R-Dynamic Black AWD</td>\n",
       "      <td>2022 · 45 km · Elektro/Benzin · Automatik</td>\n",
       "      <td>pricecheckÜber dem MarktpreisumbrellaKäuferschutz</td>\n",
       "      <td>Emil Frey Zürich Altstetten</td>\n",
       "      <td>8048 Zürich, Zürich</td>\n",
       "      <td>NaN</td>\n",
       "    </tr>\n",
       "  </tbody>\n",
       "</table>\n",
       "</div>"
      ],
      "text/plain": [
       "  web-scraper-order                           web-scraper-start-url  \\\n",
       "0  1652200447-14927  https://www.carforyou.ch/de/auto/suv?page=1205   \n",
       "1   1652197876-3840  https://www.carforyou.ch/de/auto/suv?page=1667   \n",
       "2  1652201197-18131  https://www.carforyou.ch/de/auto/suv?page=1071   \n",
       "3   1652197512-2221  https://www.carforyou.ch/de/auto/suv?page=1734   \n",
       "4  1652204391-31474   https://www.carforyou.ch/de/auto/suv?page=515   \n",
       "\n",
       "    price_raw                                   marke_modell_raw  \\\n",
       "0         NaN                                                NaN   \n",
       "1         NaN                                                NaN   \n",
       "2  CHF 80’500  Audi Q5 Sportback 45 TFSI Black Edition quattr...   \n",
       "3  CHF 39’990                    Audi Q2 35 TDI quattro S-tronic   \n",
       "4  CHF 73’000       Jaguar E-Pace 2.0 I4 200 R-Dynamic Black AWD   \n",
       "\n",
       "             baujahr_km_treibstoff_getriebe_raw  \\\n",
       "0                                           NaN   \n",
       "1                                           NaN   \n",
       "2  2021 · 2’900 km · Elektro/Benzin · Automatik   \n",
       "3         2020 · 10’000 km · Diesel · Automatik   \n",
       "4     2022 · 45 km · Elektro/Benzin · Automatik   \n",
       "\n",
       "                                      properties_raw  \\\n",
       "0                                                NaN   \n",
       "1                                                NaN   \n",
       "2                               pricecheckMarktpreis   \n",
       "3                      pricecheckÜber dem Marktpreis   \n",
       "4  pricecheckÜber dem MarktpreisumbrellaKäuferschutz   \n",
       "\n",
       "                    garage_raw     garage_place_raw  \\\n",
       "0                          NaN                  NaN   \n",
       "1                          NaN                  NaN   \n",
       "2                          NaN                  NaN   \n",
       "3                          NaN                  NaN   \n",
       "4  Emil Frey Zürich Altstetten  8048 Zürich, Zürich   \n",
       "\n",
       "                                     description_raw  \n",
       "0                                                NaN  \n",
       "1                                                NaN  \n",
       "2                                                NaN  \n",
       "3  [YS] schwarz - felsgrau[GB1] LTE-Unterstützung...  \n",
       "4                                                NaN  "
      ]
     },
     "execution_count": 2,
     "metadata": {},
     "output_type": "execute_result"
    }
   ],
   "source": [
    "df_car4you_raw = pd.read_csv('./data/car4you_suv_all_final.csv', delimiter=';')\n",
    "df_car4you_raw.head()"
   ]
  },
  {
   "cell_type": "code",
   "execution_count": 3,
   "metadata": {
    "pycharm": {
     "name": "#%%\n"
    }
   },
   "outputs": [],
   "source": [
    "from typing import Dict\n",
    "import re\n",
    "\n",
    "\n",
    "def extract_regex(pattern: str, target: str) -> str:\n",
    "    \"\"\"\n",
    "    Helper method to extract regex from string\n",
    "    :param pattern: The regex pattern\n",
    "    :param target: The target to extract from\n",
    "    :return: The extracted value, or NaN\n",
    "    \"\"\"\n",
    "    if not pd.isnull(target) and re.search(pattern, target):\n",
    "        return re.findall(pattern, target)[0]\n",
    "    return np.NaN\n",
    "\n",
    "\n",
    "def extract_manufacturer(cell_content) -> str:\n",
    "    \"\"\"\n",
    "    Extract manufacturer by splitting the cell content and returning the first element\n",
    "    :param cell_content: The cell content to extract manufacturer from\n",
    "    :return: The manufacturer, or NaN\n",
    "    \"\"\"\n",
    "    if not pd.isnull(cell_content):\n",
    "        return cell_content.split(' ')[0]\n",
    "    return np.NaN\n",
    "\n",
    "\n",
    "def extract_year(cell_content: str) -> int:\n",
    "    \"\"\"\n",
    "    Extract the year using a regex pattern\n",
    "    :param cell_content: The cell content to extract year from\n",
    "    :return: The extracted year, or NaN\n",
    "    \"\"\"\n",
    "    year_str = extract_regex(r'[12][0-9]{3}', cell_content)\n",
    "    return np.NaN if pd.isnull(year_str) else int(year_str)\n",
    "\n",
    "\n",
    "def extract_km(cell_content: str) -> int:\n",
    "    \"\"\"\n",
    "    Extract the km using a regex pattern\n",
    "    :param cell_content: The cell content to extract km from\n",
    "    :return: The extracted km value, or NaN\n",
    "    \"\"\"\n",
    "    km_str = extract_regex(r'\\d*’*\\d+ km', cell_content)\n",
    "    if pd.isnull(km_str):\n",
    "        return np.NaN\n",
    "    km = km_str.replace('’', '').replace(' km', '')\n",
    "    return int(km)\n",
    "\n",
    "\n",
    "def extract_fuel(cell_content: str) -> str:\n",
    "    \"\"\"\n",
    "    Extract the fuel type from cell content\n",
    "    :param cell_content: The cell content to extract values from\n",
    "    :return: The fuel type, or NaN\n",
    "    \"\"\"\n",
    "    if \"Elektro/Benzin\" in cell_content or \"Elektro/Diesel\" in cell_content:\n",
    "        return \"Hybrid\"\n",
    "    if \"Benzin\" in cell_content:\n",
    "        return \"Petrol\"\n",
    "    if \"Diesel\" in cell_content:\n",
    "        return \"Diesel\"\n",
    "    if \"Elektro\" in cell_content:\n",
    "        return \"Electric\"\n",
    "\n",
    "    return np.NaN\n",
    "\n",
    "def extract_transmission(cell_content: str) -> str:\n",
    "    \"\"\"\n",
    "    Extract transmission type from cell\n",
    "    :param cell_content: The cell of which the value is extracted\n",
    "    :return: The transmission type or NaN\n",
    "    \"\"\"\n",
    "    if \"Automatik\" in cell_content:\n",
    "        return \"Automatic\"\n",
    "    if \"Manuell\" in cell_content:\n",
    "        return \"Manual\"\n",
    "    return np.NaN\n",
    "\n",
    "def extract_price(cell_content: str) -> str:\n",
    "    \"\"\"\n",
    "    Extract the price form the cell\n",
    "    :param cell_content: The price cell content\n",
    "    :return: The extracted price (str) or NaN\n",
    "    \"\"\"\n",
    "    if pd.isnull(cell_content):\n",
    "        return np.NaN\n",
    "    return str(cell_content).replace('CHF ', '').replace('’', '')\n",
    "\n",
    "def extract_price_check(cell_content: str) -> str:\n",
    "    \"\"\"\n",
    "    Translate price check cell content to english lang\n",
    "    :param cell_content: The price check cell content\n",
    "    :return: The translated value\n",
    "    \"\"\"\n",
    "    if \"Über dem Marktpreis\" in cell_content:\n",
    "        return \"Above market\"\n",
    "    if \"Unter dem Marktpreis\" in cell_content:\n",
    "        return \"Below market\"\n",
    "    if \"Marktpreis\" in cell_content:\n",
    "        return \"Market\"\n",
    "    return np.NaN\n",
    "\n",
    "def row_to_dict(row: pd.Series) -> Dict:\n",
    "    \"\"\"\n",
    "    Map one row of the DataFrame into a unified Dict\n",
    "    :param row: The row to transform/map\n",
    "    :return: The mapped dict\n",
    "    \"\"\"\n",
    "    row_dict = {\n",
    "        'manufacturer': extract_manufacturer(row[3]),\n",
    "        'year': extract_year(str(row[4])),\n",
    "        'km': extract_km(str(row[4])),\n",
    "        'fuel': extract_fuel(str(row[4])),\n",
    "        'transmission': extract_transmission(str(row[4])),\n",
    "        'price': extract_price(row[2]),\n",
    "        'price_check': extract_price_check(str(row[5])),\n",
    "    }\n",
    "\n",
    "    return row_dict\n"
   ]
  },
  {
   "cell_type": "code",
   "execution_count": 4,
   "metadata": {
    "pycharm": {
     "name": "#%%\n"
    }
   },
   "outputs": [
    {
     "data": {
      "text/html": [
       "<div>\n",
       "<style scoped>\n",
       "    .dataframe tbody tr th:only-of-type {\n",
       "        vertical-align: middle;\n",
       "    }\n",
       "\n",
       "    .dataframe tbody tr th {\n",
       "        vertical-align: top;\n",
       "    }\n",
       "\n",
       "    .dataframe thead th {\n",
       "        text-align: right;\n",
       "    }\n",
       "</style>\n",
       "<table border=\"1\" class=\"dataframe\">\n",
       "  <thead>\n",
       "    <tr style=\"text-align: right;\">\n",
       "      <th></th>\n",
       "      <th>manufacturer</th>\n",
       "      <th>year</th>\n",
       "      <th>km</th>\n",
       "      <th>fuel</th>\n",
       "      <th>transmission</th>\n",
       "      <th>price</th>\n",
       "      <th>price_check</th>\n",
       "    </tr>\n",
       "  </thead>\n",
       "  <tbody>\n",
       "    <tr>\n",
       "      <th>0</th>\n",
       "      <td>NaN</td>\n",
       "      <td>NaN</td>\n",
       "      <td>NaN</td>\n",
       "      <td>NaN</td>\n",
       "      <td>NaN</td>\n",
       "      <td>NaN</td>\n",
       "      <td>NaN</td>\n",
       "    </tr>\n",
       "    <tr>\n",
       "      <th>1</th>\n",
       "      <td>NaN</td>\n",
       "      <td>NaN</td>\n",
       "      <td>NaN</td>\n",
       "      <td>NaN</td>\n",
       "      <td>NaN</td>\n",
       "      <td>NaN</td>\n",
       "      <td>NaN</td>\n",
       "    </tr>\n",
       "    <tr>\n",
       "      <th>2</th>\n",
       "      <td>Audi</td>\n",
       "      <td>2021.0</td>\n",
       "      <td>2900.0</td>\n",
       "      <td>Hybrid</td>\n",
       "      <td>Automatic</td>\n",
       "      <td>80500</td>\n",
       "      <td>Market</td>\n",
       "    </tr>\n",
       "    <tr>\n",
       "      <th>3</th>\n",
       "      <td>Audi</td>\n",
       "      <td>2020.0</td>\n",
       "      <td>10000.0</td>\n",
       "      <td>Diesel</td>\n",
       "      <td>Automatic</td>\n",
       "      <td>39990</td>\n",
       "      <td>Above market</td>\n",
       "    </tr>\n",
       "    <tr>\n",
       "      <th>4</th>\n",
       "      <td>Jaguar</td>\n",
       "      <td>2022.0</td>\n",
       "      <td>45.0</td>\n",
       "      <td>Hybrid</td>\n",
       "      <td>Automatic</td>\n",
       "      <td>73000</td>\n",
       "      <td>Above market</td>\n",
       "    </tr>\n",
       "  </tbody>\n",
       "</table>\n",
       "</div>"
      ],
      "text/plain": [
       "  manufacturer    year       km    fuel transmission  price   price_check\n",
       "0          NaN     NaN      NaN     NaN          NaN    NaN           NaN\n",
       "1          NaN     NaN      NaN     NaN          NaN    NaN           NaN\n",
       "2         Audi  2021.0   2900.0  Hybrid    Automatic  80500        Market\n",
       "3         Audi  2020.0  10000.0  Diesel    Automatic  39990  Above market\n",
       "4       Jaguar  2022.0     45.0  Hybrid    Automatic  73000  Above market"
      ]
     },
     "execution_count": 4,
     "metadata": {},
     "output_type": "execute_result"
    }
   ],
   "source": [
    "data_raw = []\n",
    "for index, row in df_car4you_raw.iterrows():\n",
    "    data_raw.append(row_to_dict(row))\n",
    "\n",
    "df_car4you = pd.DataFrame(data_raw)\n",
    "df_car4you.head()"
   ]
  },
  {
   "cell_type": "markdown",
   "metadata": {
    "pycharm": {
     "name": "#%% md\n"
    }
   },
   "source": [
    "## Load Kaggle dataset"
   ]
  },
  {
   "cell_type": "code",
   "execution_count": 5,
   "metadata": {
    "pycharm": {
     "name": "#%%\n"
    }
   },
   "outputs": [],
   "source": [
    "curr_converter = CurrencyConverter('./data/eurofxref.csv')\n",
    "\n",
    "\n",
    "def load_kaggle_dataset(path: str, manufacturer: str) -> pd.DataFrame:\n",
    "    \"\"\"\n",
    "    Load one kaggle dataset for given manufacturer\n",
    "    :param path: The path to the dataset\n",
    "    :param manufacturer: The manufacturer of the dataset content\n",
    "    :return: A dataframe of the csv dataset\n",
    "    \"\"\"\n",
    "    df_raw = pd.read_csv(path).drop(columns=['model', 'tax', 'tax(£)', 'mpg', 'engineSize'], errors='ignore')\n",
    "    df_raw.insert(0, 'manufacturer', manufacturer)\n",
    "    # assume market price for kaggle datasets\n",
    "    df_raw['price_check'] = 'Market'\n",
    "    df_raw.price = df_raw.price.apply(lambda x: curr_converter.convert(x, 'GBP', 'CHF'))\n",
    "    df_raw.mileage = df_raw.mileage * 1.61\n",
    "    return df_raw.rename(columns={'mileage': 'km', 'fuelType': 'fuel'})"
   ]
  },
  {
   "cell_type": "code",
   "execution_count": 6,
   "metadata": {
    "pycharm": {
     "name": "#%%\n"
    }
   },
   "outputs": [],
   "source": [
    "df_audi = load_kaggle_dataset('./data/audi.csv', 'Audi')\n",
    "df_bmw = load_kaggle_dataset('./data/bmw.csv', 'BMW')\n",
    "df_merc_c_class = load_kaggle_dataset('./data/cclass.csv', 'Mercedes-Benz')\n",
    "df_merc = load_kaggle_dataset('./data/merc.csv', 'Mercedes-Benz')\n",
    "df_ford_focus = load_kaggle_dataset('./data/focus.csv', 'Ford')\n",
    "df_ford = load_kaggle_dataset('./data/ford.csv', 'Ford')\n",
    "df_hyundai = load_kaggle_dataset('./data/hyundi.csv', 'Hyundai')\n",
    "df_skoda = load_kaggle_dataset('./data/skoda.csv', 'Skoda')\n",
    "df_toyota = load_kaggle_dataset('./data/toyota.csv', 'Toyota')\n",
    "df_vauxhall = load_kaggle_dataset('./data/vauxhall.csv', 'Vauxhall')\n",
    "df_vw = load_kaggle_dataset('./data/vw.csv', 'VW')"
   ]
  },
  {
   "cell_type": "code",
   "execution_count": 7,
   "metadata": {
    "pycharm": {
     "name": "#%%\n"
    }
   },
   "outputs": [
    {
     "data": {
      "text/html": [
       "<div>\n",
       "<style scoped>\n",
       "    .dataframe tbody tr th:only-of-type {\n",
       "        vertical-align: middle;\n",
       "    }\n",
       "\n",
       "    .dataframe tbody tr th {\n",
       "        vertical-align: top;\n",
       "    }\n",
       "\n",
       "    .dataframe thead th {\n",
       "        text-align: right;\n",
       "    }\n",
       "</style>\n",
       "<table border=\"1\" class=\"dataframe\">\n",
       "  <thead>\n",
       "    <tr style=\"text-align: right;\">\n",
       "      <th></th>\n",
       "      <th>manufacturer</th>\n",
       "      <th>year</th>\n",
       "      <th>km</th>\n",
       "      <th>fuel</th>\n",
       "      <th>transmission</th>\n",
       "      <th>price</th>\n",
       "      <th>price_check</th>\n",
       "    </tr>\n",
       "  </thead>\n",
       "  <tbody>\n",
       "    <tr>\n",
       "      <th>0</th>\n",
       "      <td>NaN</td>\n",
       "      <td>NaN</td>\n",
       "      <td>NaN</td>\n",
       "      <td>NaN</td>\n",
       "      <td>NaN</td>\n",
       "      <td>NaN</td>\n",
       "      <td>NaN</td>\n",
       "    </tr>\n",
       "    <tr>\n",
       "      <th>1</th>\n",
       "      <td>NaN</td>\n",
       "      <td>NaN</td>\n",
       "      <td>NaN</td>\n",
       "      <td>NaN</td>\n",
       "      <td>NaN</td>\n",
       "      <td>NaN</td>\n",
       "      <td>NaN</td>\n",
       "    </tr>\n",
       "    <tr>\n",
       "      <th>2</th>\n",
       "      <td>Audi</td>\n",
       "      <td>2021.0</td>\n",
       "      <td>2900.0</td>\n",
       "      <td>Hybrid</td>\n",
       "      <td>Automatic</td>\n",
       "      <td>80500</td>\n",
       "      <td>Market</td>\n",
       "    </tr>\n",
       "    <tr>\n",
       "      <th>3</th>\n",
       "      <td>Audi</td>\n",
       "      <td>2020.0</td>\n",
       "      <td>10000.0</td>\n",
       "      <td>Diesel</td>\n",
       "      <td>Automatic</td>\n",
       "      <td>39990</td>\n",
       "      <td>Above market</td>\n",
       "    </tr>\n",
       "    <tr>\n",
       "      <th>4</th>\n",
       "      <td>Jaguar</td>\n",
       "      <td>2022.0</td>\n",
       "      <td>45.0</td>\n",
       "      <td>Hybrid</td>\n",
       "      <td>Automatic</td>\n",
       "      <td>73000</td>\n",
       "      <td>Above market</td>\n",
       "    </tr>\n",
       "  </tbody>\n",
       "</table>\n",
       "</div>"
      ],
      "text/plain": [
       "  manufacturer    year       km    fuel transmission  price   price_check\n",
       "0          NaN     NaN      NaN     NaN          NaN    NaN           NaN\n",
       "1          NaN     NaN      NaN     NaN          NaN    NaN           NaN\n",
       "2         Audi  2021.0   2900.0  Hybrid    Automatic  80500        Market\n",
       "3         Audi  2020.0  10000.0  Diesel    Automatic  39990  Above market\n",
       "4       Jaguar  2022.0     45.0  Hybrid    Automatic  73000  Above market"
      ]
     },
     "execution_count": 7,
     "metadata": {},
     "output_type": "execute_result"
    }
   ],
   "source": [
    "# Concat all dataframes to a single one\n",
    "df_raw = pd.concat([df_car4you, df_audi, df_bmw, df_merc_c_class, df_merc, df_ford_focus, df_ford, df_hyundai, df_skoda, df_toyota, df_vauxhall, df_vw])\n",
    "df_raw.head()"
   ]
  },
  {
   "cell_type": "markdown",
   "metadata": {},
   "source": [
    "# Data cleansing\n"
   ]
  },
  {
   "cell_type": "code",
   "execution_count": 8,
   "metadata": {
    "collapsed": false,
    "jupyter": {
     "outputs_hidden": false
    },
    "pycharm": {
     "name": "#%%\n"
    }
   },
   "outputs": [
    {
     "name": "stdout",
     "output_type": "stream",
     "text": [
      "Length before dropna(): 152437\n",
      "Length after dropna(): 121524\n"
     ]
    }
   ],
   "source": [
    "# Remove rows with NaN for better analysis:\n",
    "print(f'Length before dropna(): {len(df_raw)}')\n",
    "df_raw = df_raw.dropna()\n",
    "print(f'Length after dropna(): {len(df_raw)}')"
   ]
  },
  {
   "cell_type": "code",
   "execution_count": 9,
   "metadata": {
    "collapsed": false,
    "jupyter": {
     "outputs_hidden": false
    },
    "pycharm": {
     "name": "#%%\n"
    }
   },
   "outputs": [
    {
     "data": {
      "text/html": [
       "<div>\n",
       "<style scoped>\n",
       "    .dataframe tbody tr th:only-of-type {\n",
       "        vertical-align: middle;\n",
       "    }\n",
       "\n",
       "    .dataframe tbody tr th {\n",
       "        vertical-align: top;\n",
       "    }\n",
       "\n",
       "    .dataframe thead th {\n",
       "        text-align: right;\n",
       "    }\n",
       "</style>\n",
       "<table border=\"1\" class=\"dataframe\">\n",
       "  <thead>\n",
       "    <tr style=\"text-align: right;\">\n",
       "      <th></th>\n",
       "      <th>manufacturer</th>\n",
       "      <th>year</th>\n",
       "      <th>km</th>\n",
       "      <th>fuel</th>\n",
       "      <th>transmission</th>\n",
       "      <th>price</th>\n",
       "      <th>price_check</th>\n",
       "    </tr>\n",
       "  </thead>\n",
       "  <tbody>\n",
       "    <tr>\n",
       "      <th>2</th>\n",
       "      <td>Audi</td>\n",
       "      <td>2021</td>\n",
       "      <td>2900.0</td>\n",
       "      <td>Hybrid</td>\n",
       "      <td>Automatic</td>\n",
       "      <td>80500.0</td>\n",
       "      <td>Market</td>\n",
       "    </tr>\n",
       "    <tr>\n",
       "      <th>3</th>\n",
       "      <td>Audi</td>\n",
       "      <td>2020</td>\n",
       "      <td>10000.0</td>\n",
       "      <td>Diesel</td>\n",
       "      <td>Automatic</td>\n",
       "      <td>39990.0</td>\n",
       "      <td>Above market</td>\n",
       "    </tr>\n",
       "    <tr>\n",
       "      <th>4</th>\n",
       "      <td>Jaguar</td>\n",
       "      <td>2022</td>\n",
       "      <td>45.0</td>\n",
       "      <td>Hybrid</td>\n",
       "      <td>Automatic</td>\n",
       "      <td>73000.0</td>\n",
       "      <td>Above market</td>\n",
       "    </tr>\n",
       "    <tr>\n",
       "      <th>7</th>\n",
       "      <td>VW</td>\n",
       "      <td>2021</td>\n",
       "      <td>23336.0</td>\n",
       "      <td>Petrol</td>\n",
       "      <td>Automatic</td>\n",
       "      <td>29900.0</td>\n",
       "      <td>Market</td>\n",
       "    </tr>\n",
       "    <tr>\n",
       "      <th>9</th>\n",
       "      <td>BMW</td>\n",
       "      <td>2019</td>\n",
       "      <td>20400.0</td>\n",
       "      <td>Diesel</td>\n",
       "      <td>Automatic</td>\n",
       "      <td>36900.0</td>\n",
       "      <td>Market</td>\n",
       "    </tr>\n",
       "  </tbody>\n",
       "</table>\n",
       "</div>"
      ],
      "text/plain": [
       "  manufacturer  year       km    fuel transmission    price   price_check\n",
       "2         Audi  2021   2900.0  Hybrid    Automatic  80500.0        Market\n",
       "3         Audi  2020  10000.0  Diesel    Automatic  39990.0  Above market\n",
       "4       Jaguar  2022     45.0  Hybrid    Automatic  73000.0  Above market\n",
       "7           VW  2021  23336.0  Petrol    Automatic  29900.0        Market\n",
       "9          BMW  2019  20400.0  Diesel    Automatic  36900.0        Market"
      ]
     },
     "execution_count": 9,
     "metadata": {},
     "output_type": "execute_result"
    }
   ],
   "source": [
    "# For better analysis set data types\n",
    "df = df_raw.astype({\n",
    "    'manufacturer': 'category',\n",
    "    'year': 'int32',\n",
    "    'km': 'float',\n",
    "    'fuel': 'category',\n",
    "    'transmission': 'category',\n",
    "    'price':'float',\n",
    "    'price_check': 'category'\n",
    "})\n",
    "df.head()"
   ]
  },
  {
   "cell_type": "markdown",
   "metadata": {},
   "source": [
    "## Check for duplicates"
   ]
  },
  {
   "cell_type": "code",
   "execution_count": 10,
   "metadata": {
    "pycharm": {
     "name": "#%%\n"
    }
   },
   "outputs": [
    {
     "name": "stdout",
     "output_type": "stream",
     "text": [
      "False    110608\n",
      "True      10916\n",
      "dtype: int64\n"
     ]
    },
    {
     "data": {
      "text/html": [
       "<div>\n",
       "<style scoped>\n",
       "    .dataframe tbody tr th:only-of-type {\n",
       "        vertical-align: middle;\n",
       "    }\n",
       "\n",
       "    .dataframe tbody tr th {\n",
       "        vertical-align: top;\n",
       "    }\n",
       "\n",
       "    .dataframe thead th {\n",
       "        text-align: right;\n",
       "    }\n",
       "</style>\n",
       "<table border=\"1\" class=\"dataframe\">\n",
       "  <thead>\n",
       "    <tr style=\"text-align: right;\">\n",
       "      <th></th>\n",
       "      <th>manufacturer</th>\n",
       "      <th>year</th>\n",
       "      <th>km</th>\n",
       "      <th>fuel</th>\n",
       "      <th>transmission</th>\n",
       "      <th>price</th>\n",
       "      <th>price_check</th>\n",
       "    </tr>\n",
       "  </thead>\n",
       "  <tbody>\n",
       "    <tr>\n",
       "      <th>246</th>\n",
       "      <td>Fiat</td>\n",
       "      <td>2015</td>\n",
       "      <td>105000.00</td>\n",
       "      <td>Petrol</td>\n",
       "      <td>Manual</td>\n",
       "      <td>12800.000000</td>\n",
       "      <td>Market</td>\n",
       "    </tr>\n",
       "    <tr>\n",
       "      <th>821</th>\n",
       "      <td>Mazda</td>\n",
       "      <td>2022</td>\n",
       "      <td>100.00</td>\n",
       "      <td>Petrol</td>\n",
       "      <td>Automatic</td>\n",
       "      <td>31490.000000</td>\n",
       "      <td>Above market</td>\n",
       "    </tr>\n",
       "    <tr>\n",
       "      <th>1369</th>\n",
       "      <td>Land</td>\n",
       "      <td>2018</td>\n",
       "      <td>90000.00</td>\n",
       "      <td>Diesel</td>\n",
       "      <td>Automatic</td>\n",
       "      <td>43990.000000</td>\n",
       "      <td>Market</td>\n",
       "    </tr>\n",
       "    <tr>\n",
       "      <th>2000</th>\n",
       "      <td>Jeep</td>\n",
       "      <td>2019</td>\n",
       "      <td>19900.00</td>\n",
       "      <td>Diesel</td>\n",
       "      <td>Automatic</td>\n",
       "      <td>29800.000000</td>\n",
       "      <td>Market</td>\n",
       "    </tr>\n",
       "    <tr>\n",
       "      <th>3316</th>\n",
       "      <td>Honda</td>\n",
       "      <td>2012</td>\n",
       "      <td>45000.00</td>\n",
       "      <td>Petrol</td>\n",
       "      <td>Manual</td>\n",
       "      <td>14800.000000</td>\n",
       "      <td>Market</td>\n",
       "    </tr>\n",
       "    <tr>\n",
       "      <th>...</th>\n",
       "      <td>...</td>\n",
       "      <td>...</td>\n",
       "      <td>...</td>\n",
       "      <td>...</td>\n",
       "      <td>...</td>\n",
       "      <td>...</td>\n",
       "      <td>...</td>\n",
       "    </tr>\n",
       "    <tr>\n",
       "      <th>14656</th>\n",
       "      <td>VW</td>\n",
       "      <td>2019</td>\n",
       "      <td>9660.00</td>\n",
       "      <td>Petrol</td>\n",
       "      <td>Semi-Auto</td>\n",
       "      <td>28050.420020</td>\n",
       "      <td>Market</td>\n",
       "    </tr>\n",
       "    <tr>\n",
       "      <th>14693</th>\n",
       "      <td>VW</td>\n",
       "      <td>2016</td>\n",
       "      <td>81750.97</td>\n",
       "      <td>Diesel</td>\n",
       "      <td>Manual</td>\n",
       "      <td>9759.691594</td>\n",
       "      <td>Market</td>\n",
       "    </tr>\n",
       "    <tr>\n",
       "      <th>14879</th>\n",
       "      <td>VW</td>\n",
       "      <td>2019</td>\n",
       "      <td>8050.00</td>\n",
       "      <td>Diesel</td>\n",
       "      <td>Automatic</td>\n",
       "      <td>36542.413206</td>\n",
       "      <td>Market</td>\n",
       "    </tr>\n",
       "    <tr>\n",
       "      <th>14890</th>\n",
       "      <td>VW</td>\n",
       "      <td>2019</td>\n",
       "      <td>8050.00</td>\n",
       "      <td>Diesel</td>\n",
       "      <td>Semi-Auto</td>\n",
       "      <td>32941.856899</td>\n",
       "      <td>Market</td>\n",
       "    </tr>\n",
       "    <tr>\n",
       "      <th>14901</th>\n",
       "      <td>VW</td>\n",
       "      <td>2019</td>\n",
       "      <td>9660.00</td>\n",
       "      <td>Diesel</td>\n",
       "      <td>Semi-Auto</td>\n",
       "      <td>34761.046819</td>\n",
       "      <td>Market</td>\n",
       "    </tr>\n",
       "  </tbody>\n",
       "</table>\n",
       "<p>10916 rows × 7 columns</p>\n",
       "</div>"
      ],
      "text/plain": [
       "      manufacturer  year         km    fuel transmission         price  \\\n",
       "246           Fiat  2015  105000.00  Petrol       Manual  12800.000000   \n",
       "821          Mazda  2022     100.00  Petrol    Automatic  31490.000000   \n",
       "1369          Land  2018   90000.00  Diesel    Automatic  43990.000000   \n",
       "2000          Jeep  2019   19900.00  Diesel    Automatic  29800.000000   \n",
       "3316         Honda  2012   45000.00  Petrol       Manual  14800.000000   \n",
       "...            ...   ...        ...     ...          ...           ...   \n",
       "14656           VW  2019    9660.00  Petrol    Semi-Auto  28050.420020   \n",
       "14693           VW  2016   81750.97  Diesel       Manual   9759.691594   \n",
       "14879           VW  2019    8050.00  Diesel    Automatic  36542.413206   \n",
       "14890           VW  2019    8050.00  Diesel    Semi-Auto  32941.856899   \n",
       "14901           VW  2019    9660.00  Diesel    Semi-Auto  34761.046819   \n",
       "\n",
       "        price_check  \n",
       "246          Market  \n",
       "821    Above market  \n",
       "1369         Market  \n",
       "2000         Market  \n",
       "3316         Market  \n",
       "...             ...  \n",
       "14656        Market  \n",
       "14693        Market  \n",
       "14879        Market  \n",
       "14890        Market  \n",
       "14901        Market  \n",
       "\n",
       "[10916 rows x 7 columns]"
      ]
     },
     "execution_count": 10,
     "metadata": {},
     "output_type": "execute_result"
    }
   ],
   "source": [
    "search = pd.DataFrame.duplicated(df)\n",
    "print(search.value_counts())\n",
    "df[search == True]"
   ]
  },
  {
   "cell_type": "markdown",
   "metadata": {},
   "source": [
    "### Remove duplicates"
   ]
  },
  {
   "cell_type": "code",
   "execution_count": 11,
   "metadata": {
    "pycharm": {
     "name": "#%%\n"
    }
   },
   "outputs": [
    {
     "name": "stdout",
     "output_type": "stream",
     "text": [
      "Length of dataframe before removing duplicates: 121524\n",
      "Length of dataframe after removing duplicates: 110608\n"
     ]
    }
   ],
   "source": [
    "print(f'Length of dataframe before removing duplicates: {len(df)}')\n",
    "df = df[search == False]\n",
    "print(f'Length of dataframe after removing duplicates: {len(df)}')"
   ]
  },
  {
   "cell_type": "markdown",
   "metadata": {},
   "source": [
    "# Exploratory data analytics\n",
    "With according measures"
   ]
  },
  {
   "cell_type": "code",
   "execution_count": 12,
   "metadata": {
    "pycharm": {
     "name": "#%%\n"
    }
   },
   "outputs": [
    {
     "data": {
      "text/plain": [
       "(110608, 7)"
      ]
     },
     "execution_count": 12,
     "metadata": {},
     "output_type": "execute_result"
    }
   ],
   "source": [
    "df.shape"
   ]
  },
  {
   "cell_type": "code",
   "execution_count": 13,
   "metadata": {
    "pycharm": {
     "name": "#%%\n"
    }
   },
   "outputs": [
    {
     "name": "stdout",
     "output_type": "stream",
     "text": [
      "<class 'pandas.core.frame.DataFrame'>\n",
      "Int64Index: 110608 entries, 2 to 15156\n",
      "Data columns (total 7 columns):\n",
      " #   Column        Non-Null Count   Dtype   \n",
      "---  ------        --------------   -----   \n",
      " 0   manufacturer  110608 non-null  category\n",
      " 1   year          110608 non-null  int32   \n",
      " 2   km            110608 non-null  float64 \n",
      " 3   fuel          110608 non-null  category\n",
      " 4   transmission  110608 non-null  category\n",
      " 5   price         110608 non-null  float64 \n",
      " 6   price_check   110608 non-null  category\n",
      "dtypes: category(4), float64(2), int32(1)\n",
      "memory usage: 3.4 MB\n"
     ]
    }
   ],
   "source": [
    "df.info()"
   ]
  },
  {
   "cell_type": "code",
   "execution_count": 14,
   "metadata": {
    "pycharm": {
     "name": "#%%\n"
    }
   },
   "outputs": [
    {
     "data": {
      "text/plain": [
       "manufacturer    0\n",
       "year            0\n",
       "km              0\n",
       "fuel            0\n",
       "transmission    0\n",
       "price           0\n",
       "price_check     0\n",
       "dtype: int64"
      ]
     },
     "execution_count": 14,
     "metadata": {},
     "output_type": "execute_result"
    }
   ],
   "source": [
    "df.isnull().sum()"
   ]
  },
  {
   "cell_type": "code",
   "execution_count": 15,
   "metadata": {
    "pycharm": {
     "name": "#%%\n"
    }
   },
   "outputs": [
    {
     "data": {
      "text/html": [
       "<div>\n",
       "<style scoped>\n",
       "    .dataframe tbody tr th:only-of-type {\n",
       "        vertical-align: middle;\n",
       "    }\n",
       "\n",
       "    .dataframe tbody tr th {\n",
       "        vertical-align: top;\n",
       "    }\n",
       "\n",
       "    .dataframe thead th {\n",
       "        text-align: right;\n",
       "    }\n",
       "</style>\n",
       "<table border=\"1\" class=\"dataframe\">\n",
       "  <thead>\n",
       "    <tr style=\"text-align: right;\">\n",
       "      <th></th>\n",
       "      <th>year</th>\n",
       "      <th>km</th>\n",
       "      <th>price</th>\n",
       "    </tr>\n",
       "  </thead>\n",
       "  <tbody>\n",
       "    <tr>\n",
       "      <th>count</th>\n",
       "      <td>110608.000000</td>\n",
       "      <td>110608.000000</td>\n",
       "      <td>110608.000000</td>\n",
       "    </tr>\n",
       "    <tr>\n",
       "      <th>mean</th>\n",
       "      <td>2017.144528</td>\n",
       "      <td>39157.875646</td>\n",
       "      <td>22759.751824</td>\n",
       "    </tr>\n",
       "    <tr>\n",
       "      <th>std</th>\n",
       "      <td>2.320959</td>\n",
       "      <td>35291.644679</td>\n",
       "      <td>15273.458357</td>\n",
       "    </tr>\n",
       "    <tr>\n",
       "      <th>min</th>\n",
       "      <td>1970.000000</td>\n",
       "      <td>1.000000</td>\n",
       "      <td>549.051284</td>\n",
       "    </tr>\n",
       "    <tr>\n",
       "      <th>25%</th>\n",
       "      <td>2016.000000</td>\n",
       "      <td>12673.920000</td>\n",
       "      <td>12805.096047</td>\n",
       "    </tr>\n",
       "    <tr>\n",
       "      <th>50%</th>\n",
       "      <td>2017.000000</td>\n",
       "      <td>29692.425000</td>\n",
       "      <td>18893.464724</td>\n",
       "    </tr>\n",
       "    <tr>\n",
       "      <th>75%</th>\n",
       "      <td>2019.000000</td>\n",
       "      <td>55138.072500</td>\n",
       "      <td>28050.420020</td>\n",
       "    </tr>\n",
       "    <tr>\n",
       "      <th>max</th>\n",
       "      <td>2060.000000</td>\n",
       "      <td>520030.000000</td>\n",
       "      <td>259900.000000</td>\n",
       "    </tr>\n",
       "  </tbody>\n",
       "</table>\n",
       "</div>"
      ],
      "text/plain": [
       "                year             km          price\n",
       "count  110608.000000  110608.000000  110608.000000\n",
       "mean     2017.144528   39157.875646   22759.751824\n",
       "std         2.320959   35291.644679   15273.458357\n",
       "min      1970.000000       1.000000     549.051284\n",
       "25%      2016.000000   12673.920000   12805.096047\n",
       "50%      2017.000000   29692.425000   18893.464724\n",
       "75%      2019.000000   55138.072500   28050.420020\n",
       "max      2060.000000  520030.000000  259900.000000"
      ]
     },
     "execution_count": 15,
     "metadata": {},
     "output_type": "execute_result"
    }
   ],
   "source": [
    "df.describe()"
   ]
  },
  {
   "cell_type": "code",
   "execution_count": 16,
   "metadata": {
    "collapsed": false,
    "jupyter": {
     "outputs_hidden": false
    },
    "pycharm": {
     "name": "#%%\n"
    }
   },
   "outputs": [
    {
     "data": {
      "text/html": [
       "<div>\n",
       "<style scoped>\n",
       "    .dataframe tbody tr th:only-of-type {\n",
       "        vertical-align: middle;\n",
       "    }\n",
       "\n",
       "    .dataframe tbody tr th {\n",
       "        vertical-align: top;\n",
       "    }\n",
       "\n",
       "    .dataframe thead th {\n",
       "        text-align: right;\n",
       "    }\n",
       "</style>\n",
       "<table border=\"1\" class=\"dataframe\">\n",
       "  <thead>\n",
       "    <tr style=\"text-align: right;\">\n",
       "      <th></th>\n",
       "      <th>manufacturer</th>\n",
       "      <th>year</th>\n",
       "      <th>km</th>\n",
       "      <th>fuel</th>\n",
       "      <th>transmission</th>\n",
       "      <th>price</th>\n",
       "      <th>price_check</th>\n",
       "    </tr>\n",
       "  </thead>\n",
       "  <tbody>\n",
       "    <tr>\n",
       "      <th>758</th>\n",
       "      <td>Land</td>\n",
       "      <td>2023</td>\n",
       "      <td>100.00</td>\n",
       "      <td>Petrol</td>\n",
       "      <td>Automatic</td>\n",
       "      <td>102540.000000</td>\n",
       "      <td>Market</td>\n",
       "    </tr>\n",
       "    <tr>\n",
       "      <th>2974</th>\n",
       "      <td>Jaguar</td>\n",
       "      <td>2023</td>\n",
       "      <td>10.00</td>\n",
       "      <td>Petrol</td>\n",
       "      <td>Automatic</td>\n",
       "      <td>97100.000000</td>\n",
       "      <td>Market</td>\n",
       "    </tr>\n",
       "    <tr>\n",
       "      <th>4503</th>\n",
       "      <td>Land</td>\n",
       "      <td>2023</td>\n",
       "      <td>45.00</td>\n",
       "      <td>Hybrid</td>\n",
       "      <td>Automatic</td>\n",
       "      <td>84200.000000</td>\n",
       "      <td>Market</td>\n",
       "    </tr>\n",
       "    <tr>\n",
       "      <th>13007</th>\n",
       "      <td>Jaguar</td>\n",
       "      <td>2023</td>\n",
       "      <td>20.00</td>\n",
       "      <td>Petrol</td>\n",
       "      <td>Automatic</td>\n",
       "      <td>94800.000000</td>\n",
       "      <td>Market</td>\n",
       "    </tr>\n",
       "    <tr>\n",
       "      <th>13609</th>\n",
       "      <td>Jaguar</td>\n",
       "      <td>2023</td>\n",
       "      <td>20.00</td>\n",
       "      <td>Petrol</td>\n",
       "      <td>Automatic</td>\n",
       "      <td>101860.000000</td>\n",
       "      <td>Above market</td>\n",
       "    </tr>\n",
       "    <tr>\n",
       "      <th>14801</th>\n",
       "      <td>Jaguar</td>\n",
       "      <td>2023</td>\n",
       "      <td>45.00</td>\n",
       "      <td>Petrol</td>\n",
       "      <td>Automatic</td>\n",
       "      <td>100060.000000</td>\n",
       "      <td>Above market</td>\n",
       "    </tr>\n",
       "    <tr>\n",
       "      <th>17771</th>\n",
       "      <td>Land</td>\n",
       "      <td>2023</td>\n",
       "      <td>45.00</td>\n",
       "      <td>Hybrid</td>\n",
       "      <td>Automatic</td>\n",
       "      <td>87060.000000</td>\n",
       "      <td>Market</td>\n",
       "    </tr>\n",
       "    <tr>\n",
       "      <th>19625</th>\n",
       "      <td>Land</td>\n",
       "      <td>2023</td>\n",
       "      <td>100.00</td>\n",
       "      <td>Petrol</td>\n",
       "      <td>Automatic</td>\n",
       "      <td>100600.000000</td>\n",
       "      <td>Market</td>\n",
       "    </tr>\n",
       "    <tr>\n",
       "      <th>22097</th>\n",
       "      <td>Jaguar</td>\n",
       "      <td>2023</td>\n",
       "      <td>18.00</td>\n",
       "      <td>Hybrid</td>\n",
       "      <td>Automatic</td>\n",
       "      <td>81940.000000</td>\n",
       "      <td>Above market</td>\n",
       "    </tr>\n",
       "    <tr>\n",
       "      <th>22367</th>\n",
       "      <td>Land</td>\n",
       "      <td>2023</td>\n",
       "      <td>15.00</td>\n",
       "      <td>Petrol</td>\n",
       "      <td>Automatic</td>\n",
       "      <td>108660.000000</td>\n",
       "      <td>Market</td>\n",
       "    </tr>\n",
       "    <tr>\n",
       "      <th>22732</th>\n",
       "      <td>Land</td>\n",
       "      <td>2023</td>\n",
       "      <td>100.00</td>\n",
       "      <td>Hybrid</td>\n",
       "      <td>Automatic</td>\n",
       "      <td>120000.000000</td>\n",
       "      <td>Market</td>\n",
       "    </tr>\n",
       "    <tr>\n",
       "      <th>26714</th>\n",
       "      <td>Land</td>\n",
       "      <td>2023</td>\n",
       "      <td>20.00</td>\n",
       "      <td>Petrol</td>\n",
       "      <td>Automatic</td>\n",
       "      <td>91180.000000</td>\n",
       "      <td>Market</td>\n",
       "    </tr>\n",
       "    <tr>\n",
       "      <th>27706</th>\n",
       "      <td>Land</td>\n",
       "      <td>2023</td>\n",
       "      <td>45.00</td>\n",
       "      <td>Petrol</td>\n",
       "      <td>Automatic</td>\n",
       "      <td>161460.000000</td>\n",
       "      <td>Above market</td>\n",
       "    </tr>\n",
       "    <tr>\n",
       "      <th>30052</th>\n",
       "      <td>Land</td>\n",
       "      <td>2023</td>\n",
       "      <td>45.00</td>\n",
       "      <td>Petrol</td>\n",
       "      <td>Automatic</td>\n",
       "      <td>107920.000000</td>\n",
       "      <td>Above market</td>\n",
       "    </tr>\n",
       "    <tr>\n",
       "      <th>32281</th>\n",
       "      <td>Land</td>\n",
       "      <td>2023</td>\n",
       "      <td>11.00</td>\n",
       "      <td>Petrol</td>\n",
       "      <td>Automatic</td>\n",
       "      <td>107020.000000</td>\n",
       "      <td>Market</td>\n",
       "    </tr>\n",
       "    <tr>\n",
       "      <th>32296</th>\n",
       "      <td>Land</td>\n",
       "      <td>2023</td>\n",
       "      <td>20.00</td>\n",
       "      <td>Petrol</td>\n",
       "      <td>Automatic</td>\n",
       "      <td>109360.000000</td>\n",
       "      <td>Market</td>\n",
       "    </tr>\n",
       "    <tr>\n",
       "      <th>33537</th>\n",
       "      <td>Jaguar</td>\n",
       "      <td>2023</td>\n",
       "      <td>45.00</td>\n",
       "      <td>Petrol</td>\n",
       "      <td>Automatic</td>\n",
       "      <td>100000.000000</td>\n",
       "      <td>Above market</td>\n",
       "    </tr>\n",
       "    <tr>\n",
       "      <th>39171</th>\n",
       "      <td>Jaguar</td>\n",
       "      <td>2023</td>\n",
       "      <td>20.00</td>\n",
       "      <td>Petrol</td>\n",
       "      <td>Automatic</td>\n",
       "      <td>99140.000000</td>\n",
       "      <td>Market</td>\n",
       "    </tr>\n",
       "    <tr>\n",
       "      <th>40456</th>\n",
       "      <td>Jaguar</td>\n",
       "      <td>2023</td>\n",
       "      <td>20.00</td>\n",
       "      <td>Petrol</td>\n",
       "      <td>Automatic</td>\n",
       "      <td>103640.000000</td>\n",
       "      <td>Above market</td>\n",
       "    </tr>\n",
       "    <tr>\n",
       "      <th>17726</th>\n",
       "      <td>Ford</td>\n",
       "      <td>2060</td>\n",
       "      <td>88239.27</td>\n",
       "      <td>Petrol</td>\n",
       "      <td>Automatic</td>\n",
       "      <td>7924.640193</td>\n",
       "      <td>Market</td>\n",
       "    </tr>\n",
       "  </tbody>\n",
       "</table>\n",
       "</div>"
      ],
      "text/plain": [
       "      manufacturer  year        km    fuel transmission          price  \\\n",
       "758           Land  2023    100.00  Petrol    Automatic  102540.000000   \n",
       "2974        Jaguar  2023     10.00  Petrol    Automatic   97100.000000   \n",
       "4503          Land  2023     45.00  Hybrid    Automatic   84200.000000   \n",
       "13007       Jaguar  2023     20.00  Petrol    Automatic   94800.000000   \n",
       "13609       Jaguar  2023     20.00  Petrol    Automatic  101860.000000   \n",
       "14801       Jaguar  2023     45.00  Petrol    Automatic  100060.000000   \n",
       "17771         Land  2023     45.00  Hybrid    Automatic   87060.000000   \n",
       "19625         Land  2023    100.00  Petrol    Automatic  100600.000000   \n",
       "22097       Jaguar  2023     18.00  Hybrid    Automatic   81940.000000   \n",
       "22367         Land  2023     15.00  Petrol    Automatic  108660.000000   \n",
       "22732         Land  2023    100.00  Hybrid    Automatic  120000.000000   \n",
       "26714         Land  2023     20.00  Petrol    Automatic   91180.000000   \n",
       "27706         Land  2023     45.00  Petrol    Automatic  161460.000000   \n",
       "30052         Land  2023     45.00  Petrol    Automatic  107920.000000   \n",
       "32281         Land  2023     11.00  Petrol    Automatic  107020.000000   \n",
       "32296         Land  2023     20.00  Petrol    Automatic  109360.000000   \n",
       "33537       Jaguar  2023     45.00  Petrol    Automatic  100000.000000   \n",
       "39171       Jaguar  2023     20.00  Petrol    Automatic   99140.000000   \n",
       "40456       Jaguar  2023     20.00  Petrol    Automatic  103640.000000   \n",
       "17726         Ford  2060  88239.27  Petrol    Automatic    7924.640193   \n",
       "\n",
       "        price_check  \n",
       "758          Market  \n",
       "2974         Market  \n",
       "4503         Market  \n",
       "13007        Market  \n",
       "13609  Above market  \n",
       "14801  Above market  \n",
       "17771        Market  \n",
       "19625        Market  \n",
       "22097  Above market  \n",
       "22367        Market  \n",
       "22732        Market  \n",
       "26714        Market  \n",
       "27706  Above market  \n",
       "30052  Above market  \n",
       "32281        Market  \n",
       "32296        Market  \n",
       "33537  Above market  \n",
       "39171        Market  \n",
       "40456  Above market  \n",
       "17726        Market  "
      ]
     },
     "execution_count": 16,
     "metadata": {},
     "output_type": "execute_result"
    }
   ],
   "source": [
    "df[df.year > 2022]"
   ]
  },
  {
   "cell_type": "code",
   "execution_count": 17,
   "metadata": {
    "pycharm": {
     "name": "#%%\n"
    }
   },
   "outputs": [
    {
     "name": "stdout",
     "output_type": "stream",
     "text": [
      "Length before removing invalid data: 110608\n",
      "Length after removing invalid data: 110588\n"
     ]
    }
   ],
   "source": [
    "print(f'Length before removing invalid data: {len(df)}')\n",
    "df = df[df.year <= 2022]\n",
    "print(f'Length after removing invalid data: {len(df)}')"
   ]
  },
  {
   "cell_type": "code",
   "execution_count": 18,
   "metadata": {
    "pycharm": {
     "name": "#%%\n"
    }
   },
   "outputs": [
    {
     "data": {
      "text/plain": [
       "<AxesSubplot:title={'center':'Price check'}>"
      ]
     },
     "execution_count": 18,
     "metadata": {},
     "output_type": "execute_result"
    },
    {
     "data": {
      "image/png": "[encoded data removed]",
      "text/plain": [
       "<Figure size 1440x1440 with 6 Axes>"
      ]
     },
     "metadata": {
      "needs_background": "light"
     },
     "output_type": "display_data"
    }
   ],
   "source": [
    "fig, axs = plt.subplots(2, 3, figsize=(20,20))\n",
    "df.price.plot(kind='box', ax=axs[0, 0], title='Price boxplot')\n",
    "df.manufacturer.value_counts()[:10].plot(kind='bar', ax=axs[1, 1], title='Top 10 manufacturers')\n",
    "df.transmission.value_counts().plot(kind='bar', ax=axs[0, 1], title=\"Transmission\")\n",
    "df.fuel.value_counts().plot(kind='bar', ax=axs[0, 2], title=\"Fuel\")\n",
    "df.year.value_counts()[:10].plot(kind='bar', ax=axs[1, 0], title='Top 10 years')\n",
    "df.groupby(df.price_check).size().plot(kind='pie', ax=axs[1, 2], title=\"Price check\", ylabel=\"\")"
   ]
  },
  {
   "cell_type": "markdown",
   "metadata": {},
   "source": [
    "## Remove 'other' category"
   ]
  },
  {
   "cell_type": "code",
   "execution_count": 19,
   "metadata": {
    "collapsed": false,
    "jupyter": {
     "outputs_hidden": false
    },
    "pycharm": {
     "name": "#%%\n"
    }
   },
   "outputs": [
    {
     "name": "stdout",
     "output_type": "stream",
     "text": [
      "Lenght of Dataframe before \"other\" removal: 110588\n",
      "Lenght of Dataframe before \"other\" removal: 110331\n"
     ]
    }
   ],
   "source": [
    "print(f'Lenght of Dataframe before \"other\" removal: {len(df)}')\n",
    "df = df[df.fuel != 'Other']\n",
    "df = df[df.transmission != 'Other']\n",
    "df = df[df.manufacturer != 'Other']\n",
    "print(f'Lenght of Dataframe before \"other\" removal: {len(df)}')"
   ]
  },
  {
   "cell_type": "code",
   "execution_count": 20,
   "metadata": {
    "pycharm": {
     "name": "#%%\n"
    }
   },
   "outputs": [
    {
     "name": "stdout",
     "output_type": "stream",
     "text": [
      "Outliers (row count = 2021):\n"
     ]
    },
    {
     "data": {
      "text/html": [
       "<div>\n",
       "<style scoped>\n",
       "    .dataframe tbody tr th:only-of-type {\n",
       "        vertical-align: middle;\n",
       "    }\n",
       "\n",
       "    .dataframe tbody tr th {\n",
       "        vertical-align: top;\n",
       "    }\n",
       "\n",
       "    .dataframe thead th {\n",
       "        text-align: right;\n",
       "    }\n",
       "</style>\n",
       "<table border=\"1\" class=\"dataframe\">\n",
       "  <thead>\n",
       "    <tr style=\"text-align: right;\">\n",
       "      <th></th>\n",
       "      <th>manufacturer</th>\n",
       "      <th>year</th>\n",
       "      <th>km</th>\n",
       "      <th>fuel</th>\n",
       "      <th>transmission</th>\n",
       "      <th>price</th>\n",
       "      <th>price_check</th>\n",
       "    </tr>\n",
       "  </thead>\n",
       "  <tbody>\n",
       "    <tr>\n",
       "      <th>2</th>\n",
       "      <td>Audi</td>\n",
       "      <td>2021</td>\n",
       "      <td>2900.0</td>\n",
       "      <td>Hybrid</td>\n",
       "      <td>Automatic</td>\n",
       "      <td>80500.0</td>\n",
       "      <td>Market</td>\n",
       "    </tr>\n",
       "    <tr>\n",
       "      <th>4</th>\n",
       "      <td>Jaguar</td>\n",
       "      <td>2022</td>\n",
       "      <td>45.0</td>\n",
       "      <td>Hybrid</td>\n",
       "      <td>Automatic</td>\n",
       "      <td>73000.0</td>\n",
       "      <td>Above market</td>\n",
       "    </tr>\n",
       "    <tr>\n",
       "      <th>36</th>\n",
       "      <td>Porsche</td>\n",
       "      <td>2021</td>\n",
       "      <td>20900.0</td>\n",
       "      <td>Hybrid</td>\n",
       "      <td>Automatic</td>\n",
       "      <td>188000.0</td>\n",
       "      <td>Market</td>\n",
       "    </tr>\n",
       "    <tr>\n",
       "      <th>108</th>\n",
       "      <td>Mercedes-Benz</td>\n",
       "      <td>2016</td>\n",
       "      <td>118000.0</td>\n",
       "      <td>Petrol</td>\n",
       "      <td>Automatic</td>\n",
       "      <td>69900.0</td>\n",
       "      <td>Market</td>\n",
       "    </tr>\n",
       "    <tr>\n",
       "      <th>164</th>\n",
       "      <td>Porsche</td>\n",
       "      <td>2019</td>\n",
       "      <td>12500.0</td>\n",
       "      <td>Petrol</td>\n",
       "      <td>Automatic</td>\n",
       "      <td>83990.0</td>\n",
       "      <td>Market</td>\n",
       "    </tr>\n",
       "  </tbody>\n",
       "</table>\n",
       "</div>"
      ],
      "text/plain": [
       "      manufacturer  year        km    fuel transmission     price  \\\n",
       "2             Audi  2021    2900.0  Hybrid    Automatic   80500.0   \n",
       "4           Jaguar  2022      45.0  Hybrid    Automatic   73000.0   \n",
       "36         Porsche  2021   20900.0  Hybrid    Automatic  188000.0   \n",
       "108  Mercedes-Benz  2016  118000.0  Petrol    Automatic   69900.0   \n",
       "164        Porsche  2019   12500.0  Petrol    Automatic   83990.0   \n",
       "\n",
       "      price_check  \n",
       "2          Market  \n",
       "4    Above market  \n",
       "36         Market  \n",
       "108        Market  \n",
       "164        Market  "
      ]
     },
     "execution_count": 20,
     "metadata": {},
     "output_type": "execute_result"
    }
   ],
   "source": [
    "df_outliers = df[np.abs(stats.zscore(df.price) > 3)]\n",
    "print(f'Outliers (row count = {len(df_outliers)}):')\n",
    "df_outliers.head()"
   ]
  },
  {
   "cell_type": "code",
   "execution_count": 21,
   "metadata": {
    "pycharm": {
     "name": "#%%\n"
    }
   },
   "outputs": [
    {
     "name": "stdout",
     "output_type": "stream",
     "text": [
      "Length of dataframe before outlier removal: 110331\n",
      "Length of dataframe after outlier removal: 100714\n"
     ]
    }
   ],
   "source": [
    "print(f'Length of dataframe before outlier removal: {len(df)}')\n",
    "df = df[~df.index.isin(df_outliers.index)]\n",
    "print(f'Length of dataframe after outlier removal: {len(df)}')"
   ]
  },
  {
   "cell_type": "code",
   "execution_count": 22,
   "metadata": {
    "pycharm": {
     "name": "#%%\n"
    }
   },
   "outputs": [
    {
     "data": {
      "text/plain": [
       "<AxesSubplot:>"
      ]
     },
     "execution_count": 22,
     "metadata": {},
     "output_type": "execute_result"
    },
    {
     "data": {
      "image/png": "[encoded data removed]",
      "text/plain": [
       "<Figure size 432x288 with 1 Axes>"
      ]
     },
     "metadata": {
      "needs_background": "light"
     },
     "output_type": "display_data"
    }
   ],
   "source": [
    "df.price.plot(kind = 'box')"
   ]
  },
  {
   "cell_type": "code",
   "execution_count": 23,
   "metadata": {
    "pycharm": {
     "name": "#%%\n"
    }
   },
   "outputs": [
    {
     "data": {
      "text/plain": [
       "<AxesSubplot:>"
      ]
     },
     "execution_count": 23,
     "metadata": {},
     "output_type": "execute_result"
    },
    {
     "data": {
      "image/png": "[encoded data removed]",
      "text/plain": [
       "<Figure size 432x288 with 2 Axes>"
      ]
     },
     "metadata": {
      "needs_background": "light"
     },
     "output_type": "display_data"
    }
   ],
   "source": [
    "# TODO: make heatmap\n",
    "corr = df.corr()\n",
    "\n",
    "# plot the heatmap\n",
    "sns.heatmap(corr,\n",
    "            cmap=\"Blues\",\n",
    "            annot=True,\n",
    "            xticklabels=corr.columns,\n",
    "            yticklabels=corr.columns)"
   ]
  },
  {
   "cell_type": "code",
   "execution_count": 24,
   "metadata": {
    "pycharm": {
     "name": "#%%\n"
    }
   },
   "outputs": [
    {
     "data": {
      "text/plain": [
       "[(0.0, 77104.36610871386)]"
      ]
     },
     "execution_count": 24,
     "metadata": {},
     "output_type": "execute_result"
    },
    {
     "data": {
      "image/png": "[encoded data removed]",
      "text/plain": [
       "<Figure size 1440x720 with 2 Axes>"
      ]
     },
     "metadata": {
      "needs_background": "light"
     },
     "output_type": "display_data"
    }
   ],
   "source": [
    "fig, axs = plt.subplots(1, 2, figsize=(20, 10))\n",
    "year_km = sns.regplot(data=df, x='year', y='km', ax=axs[0], line_kws={\"color\": \"red\"})\n",
    "year_price = sns.regplot(data=df, x='year', y='price', ax=axs[1], line_kws={\"color\": \"red\"})\n",
    "year_km.set(ylim=(0, None))\n",
    "year_price.set(ylim=(0, None))"
   ]
  },
  {
   "cell_type": "markdown",
   "metadata": {},
   "source": [
    "# Analysis and validation"
   ]
  },
  {
   "cell_type": "code",
   "execution_count": 25,
   "metadata": {
    "collapsed": false,
    "jupyter": {
     "outputs_hidden": false
    },
    "pycharm": {
     "name": "#%%\n"
    }
   },
   "outputs": [
    {
     "name": "stderr",
     "output_type": "stream",
     "text": [
      "C:\\Users\\dakol\\anaconda3\\lib\\site-packages\\seaborn\\distributions.py:2619: FutureWarning: `distplot` is a deprecated function and will be removed in a future version. Please adapt your code to use either `displot` (a figure-level function with similar flexibility) or `histplot` (an axes-level function for histograms).\n",
      "  warnings.warn(msg, FutureWarning)\n",
      "C:\\Users\\dakol\\anaconda3\\lib\\site-packages\\seaborn\\distributions.py:2619: FutureWarning: `distplot` is a deprecated function and will be removed in a future version. Please adapt your code to use either `displot` (a figure-level function with similar flexibility) or `histplot` (an axes-level function for histograms).\n",
      "  warnings.warn(msg, FutureWarning)\n",
      "C:\\Users\\dakol\\anaconda3\\lib\\site-packages\\seaborn\\distributions.py:2619: FutureWarning: `distplot` is a deprecated function and will be removed in a future version. Please adapt your code to use either `displot` (a figure-level function with similar flexibility) or `histplot` (an axes-level function for histograms).\n",
      "  warnings.warn(msg, FutureWarning)\n"
     ]
    },
    {
     "data": {
      "text/plain": [
       "<AxesSubplot:xlabel='km', ylabel='Density'>"
      ]
     },
     "execution_count": 25,
     "metadata": {},
     "output_type": "execute_result"
    },
    {
     "data": {
      "image/png": "[encoded data removed]",
      "text/plain": [
       "<Figure size 1440x720 with 4 Axes>"
      ]
     },
     "metadata": {
      "needs_background": "light"
     },
     "output_type": "display_data"
    }
   ],
   "source": [
    "fig, axs = plt.subplots(ncols=2, nrows=2, figsize=(20, 10))\n",
    "\n",
    "sns.distplot(df.year, fit=stats.norm, ax=axs[0, 0])\n",
    "sns.distplot(df.price, fit=stats.norm, ax=axs[0,1])\n",
    "sns.distplot(df.km, fit=stats.norm, ax=axs[1, 0])\n",
    "# (Folowwing Dutli, D., 2020)"
   ]
  },
  {
   "cell_type": "markdown",
   "metadata": {},
   "source": []
  },
  {
   "cell_type": "code",
   "execution_count": 26,
   "metadata": {
    "collapsed": false,
    "jupyter": {
     "outputs_hidden": false
    },
    "pycharm": {
     "name": "#%%\n"
    }
   },
   "outputs": [
    {
     "name": "stdout",
     "output_type": "stream",
     "text": [
      "Length of dataframe before year filtering: 100714\n",
      "Length of dataframe after year filtering: 100489\n"
     ]
    }
   ],
   "source": [
    "# remove years below 2005\n",
    "print(f'Length of dataframe before year filtering: {len(df)}')\n",
    "df = df[df.year >= 2005]\n",
    "print(f'Length of dataframe after year filtering: {len(df)}')"
   ]
  },
  {
   "cell_type": "code",
   "execution_count": 27,
   "metadata": {
    "collapsed": false,
    "jupyter": {
     "outputs_hidden": false
    },
    "pycharm": {
     "name": "#%%\n"
    }
   },
   "outputs": [
    {
     "name": "stdout",
     "output_type": "stream",
     "text": [
      "Outliers (row count = 1313):\n"
     ]
    },
    {
     "data": {
      "text/html": [
       "<div>\n",
       "<style scoped>\n",
       "    .dataframe tbody tr th:only-of-type {\n",
       "        vertical-align: middle;\n",
       "    }\n",
       "\n",
       "    .dataframe tbody tr th {\n",
       "        vertical-align: top;\n",
       "    }\n",
       "\n",
       "    .dataframe thead th {\n",
       "        text-align: right;\n",
       "    }\n",
       "</style>\n",
       "<table border=\"1\" class=\"dataframe\">\n",
       "  <thead>\n",
       "    <tr style=\"text-align: right;\">\n",
       "      <th></th>\n",
       "      <th>manufacturer</th>\n",
       "      <th>year</th>\n",
       "      <th>km</th>\n",
       "      <th>fuel</th>\n",
       "      <th>transmission</th>\n",
       "      <th>price</th>\n",
       "      <th>price_check</th>\n",
       "    </tr>\n",
       "  </thead>\n",
       "  <tbody>\n",
       "    <tr>\n",
       "      <th>33</th>\n",
       "      <td>Jeep</td>\n",
       "      <td>2011</td>\n",
       "      <td>146000.0</td>\n",
       "      <td>Diesel</td>\n",
       "      <td>Automatic</td>\n",
       "      <td>18900.0</td>\n",
       "      <td>Above market</td>\n",
       "    </tr>\n",
       "    <tr>\n",
       "      <th>291</th>\n",
       "      <td>Land</td>\n",
       "      <td>2008</td>\n",
       "      <td>149700.0</td>\n",
       "      <td>Diesel</td>\n",
       "      <td>Automatic</td>\n",
       "      <td>18900.0</td>\n",
       "      <td>Market</td>\n",
       "    </tr>\n",
       "    <tr>\n",
       "      <th>527</th>\n",
       "      <td>Audi</td>\n",
       "      <td>2012</td>\n",
       "      <td>150000.0</td>\n",
       "      <td>Petrol</td>\n",
       "      <td>Automatic</td>\n",
       "      <td>16999.0</td>\n",
       "      <td>Above market</td>\n",
       "    </tr>\n",
       "    <tr>\n",
       "      <th>859</th>\n",
       "      <td>Ford</td>\n",
       "      <td>2009</td>\n",
       "      <td>148000.0</td>\n",
       "      <td>Petrol</td>\n",
       "      <td>Manual</td>\n",
       "      <td>9900.0</td>\n",
       "      <td>Above market</td>\n",
       "    </tr>\n",
       "    <tr>\n",
       "      <th>863</th>\n",
       "      <td>Mercedes-Benz</td>\n",
       "      <td>2014</td>\n",
       "      <td>149980.0</td>\n",
       "      <td>Petrol</td>\n",
       "      <td>Automatic</td>\n",
       "      <td>17499.0</td>\n",
       "      <td>Above market</td>\n",
       "    </tr>\n",
       "  </tbody>\n",
       "</table>\n",
       "</div>"
      ],
      "text/plain": [
       "      manufacturer  year        km    fuel transmission    price   price_check\n",
       "33            Jeep  2011  146000.0  Diesel    Automatic  18900.0  Above market\n",
       "291           Land  2008  149700.0  Diesel    Automatic  18900.0        Market\n",
       "527           Audi  2012  150000.0  Petrol    Automatic  16999.0  Above market\n",
       "859           Ford  2009  148000.0  Petrol       Manual   9900.0  Above market\n",
       "863  Mercedes-Benz  2014  149980.0  Petrol    Automatic  17499.0  Above market"
      ]
     },
     "execution_count": 27,
     "metadata": {},
     "output_type": "execute_result"
    }
   ],
   "source": [
    "# remove km outliers\n",
    "df_km_outliers = df[np.abs(stats.zscore(df.km) > 3)]\n",
    "print(f'Outliers (row count = {len(df_km_outliers)}):')\n",
    "df_km_outliers.head()"
   ]
  },
  {
   "cell_type": "code",
   "execution_count": 28,
   "metadata": {
    "collapsed": false,
    "jupyter": {
     "outputs_hidden": false
    },
    "pycharm": {
     "name": "#%%\n"
    }
   },
   "outputs": [
    {
     "name": "stdout",
     "output_type": "stream",
     "text": [
      "Length of dataframe before outlier (km) removal: 100489\n",
      "Length of dataframe after outlier (km) removal: 93167\n"
     ]
    }
   ],
   "source": [
    "print(f'Length of dataframe before outlier (km) removal: {len(df)}')\n",
    "df = df[~df.index.isin(df_km_outliers.index)]\n",
    "print(f'Length of dataframe after outlier (km) removal: {len(df)}')"
   ]
  },
  {
   "cell_type": "code",
   "execution_count": 29,
   "metadata": {
    "collapsed": false,
    "jupyter": {
     "outputs_hidden": false
    },
    "pycharm": {
     "name": "#%%\n"
    }
   },
   "outputs": [
    {
     "name": "stderr",
     "output_type": "stream",
     "text": [
      "C:\\Users\\dakol\\anaconda3\\lib\\site-packages\\seaborn\\distributions.py:2619: FutureWarning: `distplot` is a deprecated function and will be removed in a future version. Please adapt your code to use either `displot` (a figure-level function with similar flexibility) or `histplot` (an axes-level function for histograms).\n",
      "  warnings.warn(msg, FutureWarning)\n",
      "C:\\Users\\dakol\\anaconda3\\lib\\site-packages\\seaborn\\distributions.py:2619: FutureWarning: `distplot` is a deprecated function and will be removed in a future version. Please adapt your code to use either `displot` (a figure-level function with similar flexibility) or `histplot` (an axes-level function for histograms).\n",
      "  warnings.warn(msg, FutureWarning)\n"
     ]
    },
    {
     "data": {
      "text/plain": [
       "<AxesSubplot:xlabel='km', ylabel='Density'>"
      ]
     },
     "execution_count": 29,
     "metadata": {},
     "output_type": "execute_result"
    },
    {
     "data": {
      "image/png": "[encoded data removed]",
      "text/plain": [
       "<Figure size 1440x720 with 2 Axes>"
      ]
     },
     "metadata": {
      "needs_background": "light"
     },
     "output_type": "display_data"
    }
   ],
   "source": [
    "# Check distribution of year and km again:\n",
    "fig, axs = plt.subplots(ncols=2, nrows=1, figsize=(20, 10))\n",
    "\n",
    "sns.distplot(df.year, fit=stats.norm, ax=axs[0])\n",
    "sns.distplot(df.km, fit=stats.norm, ax=axs[1])\n",
    "# (Folowwing Dutli, D., 2020)"
   ]
  },
  {
   "cell_type": "markdown",
   "metadata": {},
   "source": [
    "# Data preparation"
   ]
  },
  {
   "cell_type": "code",
   "execution_count": 30,
   "metadata": {
    "collapsed": false,
    "jupyter": {
     "outputs_hidden": false
    },
    "pycharm": {
     "name": "#%%\n"
    }
   },
   "outputs": [],
   "source": [
    "df_preped = df.copy()"
   ]
  },
  {
   "cell_type": "code",
   "execution_count": 31,
   "metadata": {
    "pycharm": {
     "name": "#%%\n"
    }
   },
   "outputs": [],
   "source": [
    "df_preped.manufacturer = df_preped.manufacturer.cat.codes\n",
    "df_preped.transmission = df_preped.transmission.cat.codes\n",
    "df_preped.fuel = df_preped.fuel.cat.codes\n",
    "df_preped.price_check = df_preped.price_check.cat.codes"
   ]
  },
  {
   "cell_type": "code",
   "execution_count": 32,
   "metadata": {
    "pycharm": {
     "name": "#%%\n"
    }
   },
   "outputs": [],
   "source": [
    "X = df_preped.drop(columns='price')\n",
    "y = df_preped.price"
   ]
  },
  {
   "cell_type": "code",
   "execution_count": 33,
   "metadata": {
    "collapsed": false,
    "jupyter": {
     "outputs_hidden": false
    },
    "pycharm": {
     "name": "#%%\n"
    }
   },
   "outputs": [],
   "source": [
    "X_train, X_test, y_train, y_test = train_test_split(X, y, test_size=.2, random_state=21, stratify=df_preped.price_check)"
   ]
  },
  {
   "cell_type": "markdown",
   "metadata": {},
   "source": [
    "# Feature selection"
   ]
  },
  {
   "cell_type": "code",
   "execution_count": 34,
   "metadata": {
    "collapsed": false,
    "jupyter": {
     "outputs_hidden": false
    },
    "pycharm": {
     "name": "#%%\n"
    }
   },
   "outputs": [],
   "source": [
    "# feature selection using mutual_info_regression:\n",
    "from sklearn.feature_selection import SelectKBest, mutual_info_regression, f_regression\n",
    "\n",
    "def get_feature_scores(score_func) -> pd.DataFrame:\n",
    "    select_best = SelectKBest(score_func=score_func, k='all')\n",
    "    select_best = select_best.fit(X_train, y_train)\n",
    "    return pd.DataFrame(dict(feature_names= X_train.columns , scores = select_best.scores_)).sort_values('scores',ascending = False)\n"
   ]
  },
  {
   "cell_type": "code",
   "execution_count": 35,
   "metadata": {
    "collapsed": false,
    "jupyter": {
     "outputs_hidden": false
    },
    "pycharm": {
     "name": "#%%\n"
    }
   },
   "outputs": [
    {
     "data": {
      "text/html": [
       "<div>\n",
       "<style scoped>\n",
       "    .dataframe tbody tr th:only-of-type {\n",
       "        vertical-align: middle;\n",
       "    }\n",
       "\n",
       "    .dataframe tbody tr th {\n",
       "        vertical-align: top;\n",
       "    }\n",
       "\n",
       "    .dataframe thead th {\n",
       "        text-align: right;\n",
       "    }\n",
       "</style>\n",
       "<table border=\"1\" class=\"dataframe\">\n",
       "  <thead>\n",
       "    <tr style=\"text-align: right;\">\n",
       "      <th></th>\n",
       "      <th>feature_names</th>\n",
       "      <th>scores</th>\n",
       "    </tr>\n",
       "  </thead>\n",
       "  <tbody>\n",
       "    <tr>\n",
       "      <th>0</th>\n",
       "      <td>manufacturer</td>\n",
       "      <td>0.389277</td>\n",
       "    </tr>\n",
       "    <tr>\n",
       "      <th>1</th>\n",
       "      <td>year</td>\n",
       "      <td>0.329766</td>\n",
       "    </tr>\n",
       "    <tr>\n",
       "      <th>4</th>\n",
       "      <td>transmission</td>\n",
       "      <td>0.316517</td>\n",
       "    </tr>\n",
       "    <tr>\n",
       "      <th>2</th>\n",
       "      <td>km</td>\n",
       "      <td>0.162861</td>\n",
       "    </tr>\n",
       "    <tr>\n",
       "      <th>5</th>\n",
       "      <td>price_check</td>\n",
       "      <td>0.090842</td>\n",
       "    </tr>\n",
       "    <tr>\n",
       "      <th>3</th>\n",
       "      <td>fuel</td>\n",
       "      <td>0.068472</td>\n",
       "    </tr>\n",
       "  </tbody>\n",
       "</table>\n",
       "</div>"
      ],
      "text/plain": [
       "  feature_names    scores\n",
       "0  manufacturer  0.389277\n",
       "1          year  0.329766\n",
       "4  transmission  0.316517\n",
       "2            km  0.162861\n",
       "5   price_check  0.090842\n",
       "3          fuel  0.068472"
      ]
     },
     "execution_count": 35,
     "metadata": {},
     "output_type": "execute_result"
    }
   ],
   "source": [
    "mutual_feature_score = get_feature_scores(mutual_info_regression)\n",
    "mutual_feature_score"
   ]
  },
  {
   "cell_type": "code",
   "execution_count": 36,
   "metadata": {
    "collapsed": false,
    "jupyter": {
     "outputs_hidden": false
    },
    "pycharm": {
     "name": "#%%\n"
    }
   },
   "outputs": [
    {
     "data": {
      "text/html": [
       "<div>\n",
       "<style scoped>\n",
       "    .dataframe tbody tr th:only-of-type {\n",
       "        vertical-align: middle;\n",
       "    }\n",
       "\n",
       "    .dataframe tbody tr th {\n",
       "        vertical-align: top;\n",
       "    }\n",
       "\n",
       "    .dataframe thead th {\n",
       "        text-align: right;\n",
       "    }\n",
       "</style>\n",
       "<table border=\"1\" class=\"dataframe\">\n",
       "  <thead>\n",
       "    <tr style=\"text-align: right;\">\n",
       "      <th></th>\n",
       "      <th>feature_names</th>\n",
       "      <th>scores</th>\n",
       "    </tr>\n",
       "  </thead>\n",
       "  <tbody>\n",
       "    <tr>\n",
       "      <th>1</th>\n",
       "      <td>year</td>\n",
       "      <td>26704.834296</td>\n",
       "    </tr>\n",
       "    <tr>\n",
       "      <th>2</th>\n",
       "      <td>km</td>\n",
       "      <td>8749.512610</td>\n",
       "    </tr>\n",
       "    <tr>\n",
       "      <th>3</th>\n",
       "      <td>fuel</td>\n",
       "      <td>3838.112218</td>\n",
       "    </tr>\n",
       "    <tr>\n",
       "      <th>0</th>\n",
       "      <td>manufacturer</td>\n",
       "      <td>3099.994982</td>\n",
       "    </tr>\n",
       "    <tr>\n",
       "      <th>5</th>\n",
       "      <td>price_check</td>\n",
       "      <td>2870.488773</td>\n",
       "    </tr>\n",
       "    <tr>\n",
       "      <th>4</th>\n",
       "      <td>transmission</td>\n",
       "      <td>165.521864</td>\n",
       "    </tr>\n",
       "  </tbody>\n",
       "</table>\n",
       "</div>"
      ],
      "text/plain": [
       "  feature_names        scores\n",
       "1          year  26704.834296\n",
       "2            km   8749.512610\n",
       "3          fuel   3838.112218\n",
       "0  manufacturer   3099.994982\n",
       "5   price_check   2870.488773\n",
       "4  transmission    165.521864"
      ]
     },
     "execution_count": 36,
     "metadata": {},
     "output_type": "execute_result"
    }
   ],
   "source": [
    "f_reg_feature_score = get_feature_scores(f_regression)\n",
    "f_reg_feature_score"
   ]
  },
  {
   "cell_type": "markdown",
   "metadata": {},
   "source": [
    "## Feature selection conclusion\n",
    "Feature selection did not yield to any performance improvements"
   ]
  },
  {
   "cell_type": "markdown",
   "metadata": {},
   "source": [
    "# Price prediction"
   ]
  },
  {
   "cell_type": "code",
   "execution_count": 37,
   "metadata": {
    "pycharm": {
     "name": "#%%\n"
    }
   },
   "outputs": [],
   "source": [
    "class BenchmarkRegressor:\n",
    "    def __init__(self):\n",
    "        pass\n",
    "\n",
    "    def fit(self, X, y, **kwargs):\n",
    "        self.mean = y.mean()\n",
    "\n",
    "    def predict(self, X):\n",
    "        return [self.mean] * len(X)\n",
    "\n",
    "    def get_params(self, deep=False):\n",
    "        return {}\n",
    "\n",
    "# The following Models are currently computing used the Standard Parameters. Please keep in mind,\n",
    "# that they need to be optimized using the hyperparameters within the modeling process.\n",
    "\n",
    "bm_regr = BenchmarkRegressor()\n",
    "lr_regr = LinearRegression()\n",
    "ri_regr = Ridge()\n",
    "br_regr = BayesianRidge()\n",
    "ls_regr = Lasso()\n",
    "en_regr = ElasticNet()\n",
    "ne_regr = KNeighborsRegressor()\n",
    "dt_regr = DecisionTreeRegressor()\n",
    "\n",
    "# RandomForest with some Hyperparameters, to get a better Model \n",
    "#rf_regr = RandomForestRegressor(n_estimators = 200, max_depth = 70, min_samples_split= 10)\n",
    "rf_regr = RandomForestRegressor()\n",
    "\n",
    "# XGBRegressor with some Hyperparameters, to get a batter Model \n",
    "#xg_regr = xgb.XGBRegressor(max_depth = 10, gamma = 10, min_child_weight = 5)\n",
    "xg_regr = xgb.XGBRegressor()\n",
    "\n",
    "models = [\n",
    "    ('Benchmark', bm_regr),\n",
    "    ('LR', lr_regr),\n",
    "    ('Ridge', ri_regr),\n",
    "    ('Bayesian Ridge', br_regr),\n",
    "    ('Lasso', ls_regr),\n",
    "    ('Elastic Net', en_regr),\n",
    "    ('Nearest Neighbors (KNN) regression', ne_regr),\n",
    "    ('Decision Tree', dt_regr),\n",
    "    ('Random Forest', rf_regr),\n",
    "    ('XGBoost', xg_regr),\n",
    "]"
   ]
  },
  {
   "cell_type": "code",
   "execution_count": 38,
   "metadata": {
    "pycharm": {
     "name": "#%%\n"
    }
   },
   "outputs": [
    {
     "name": "stdout",
     "output_type": "stream",
     "text": [
      "Model:  Benchmark  | EVS:  0.0\n",
      "Model:  Benchmark  | ME:  46499.991965329194\n",
      "Model:  Benchmark  | MAE:  9287.000933060288\n",
      "Model:  Benchmark  | MSE  12015.802241561138\n",
      "Model:  Benchmark  | RMSE  109.61661480615581\n",
      "Model:  Benchmark  | R2  -2.1426390946821527e-05\n",
      "----------------\n",
      "Model:  LR  | EVS:  0.26056919623522856\n",
      "Model:  LR  | ME:  56412.8612743307\n",
      "Model:  LR  | MAE:  7633.23694176431\n",
      "Model:  LR  | MSE  10332.390612022346\n",
      "Model:  LR  | RMSE  101.64836748331153\n",
      "Model:  LR  | R2  0.2605558226050577\n",
      "----------------\n",
      "Model:  Ridge  | EVS:  0.2605691923216029\n",
      "Model:  Ridge  | ME:  56412.8422763377\n",
      "Model:  Ridge  | MAE:  7633.237180010553\n",
      "Model:  Ridge  | MSE  10332.390639091424\n",
      "Model:  Ridge  | RMSE  101.64836761646211\n",
      "Model:  Ridge  | R2  0.26055581873062583\n",
      "----------------\n",
      "Model:  Bayesian Ridge  | EVS:  0.26056889522484294\n",
      "Model:  Bayesian Ridge  | ME:  56411.439913455404\n",
      "Model:  Bayesian Ridge  | MAE:  7633.254941200331\n",
      "Model:  Bayesian Ridge  | MSE  10332.392694573504\n",
      "Model:  Bayesian Ridge  | RMSE  101.64837772720972\n",
      "Model:  Bayesian Ridge  | R2  0.2605555245268024\n",
      "----------------\n",
      "Model:  Lasso  | EVS:  0.26056896658716033\n",
      "Model:  Lasso  | ME:  56412.18735344234\n",
      "Model:  Lasso  | MAE:  7633.247622011587\n",
      "Model:  Lasso  | MSE  10332.392210330188\n",
      "Model:  Lasso  | RMSE  101.6483753452567\n",
      "Model:  Lasso  | R2  0.26055559383718296\n",
      "----------------\n",
      "Model:  Elastic Net  | EVS:  0.25885372062121903\n",
      "Model:  Elastic Net  | ME:  55792.28728295002\n",
      "Model:  Elastic Net  | MAE:  7650.577301784095\n",
      "Model:  Elastic Net  | MSE  10344.360334057385\n",
      "Model:  Elastic Net  | RMSE  101.70722852411909\n",
      "Model:  Elastic Net  | R2  0.25884158853220085\n",
      "----------------\n",
      "Model:  Nearest Neighbors (KNN) regression  | EVS:  0.28080033667964444\n",
      "Model:  Nearest Neighbors (KNN) regression  | ME:  52905.60559243376\n",
      "Model:  Nearest Neighbors (KNN) regression  | MAE:  7509.967083083415\n",
      "Model:  Nearest Neighbors (KNN) regression  | MSE  10194.835826477525\n",
      "Model:  Nearest Neighbors (KNN) regression  | RMSE  100.96947967815584\n",
      "Model:  Nearest Neighbors (KNN) regression  | R2  0.2801131604675158\n",
      "----------------\n",
      "Model:  Decision Tree  | EVS:  0.5108167106744428\n",
      "Model:  Decision Tree  | ME:  51250.88703518769\n",
      "Model:  Decision Tree  | MAE:  5489.823671299307\n",
      "Model:  Decision Tree  | MSE  8403.960277245993\n",
      "Model:  Decision Tree  | RMSE  91.67311643685946\n",
      "Model:  Decision Tree  | R2  0.5108165640041729\n",
      "----------------\n",
      "Model:  Random Forest  | EVS:  0.6637692894944112\n",
      "Model:  Random Forest  | ME:  48960.75752805028\n",
      "Model:  Random Forest  | MAE:  4686.529002240039\n",
      "Model:  Random Forest  | MSE  6967.345321415722\n",
      "Model:  Random Forest  | RMSE  83.47062550032629\n",
      "Model:  Random Forest  | R2  0.6637684728867477\n",
      "----------------\n",
      "Model:  XGBoost  | EVS:  0.6833508201957015\n",
      "Model:  XGBoost  | ME:  47973.98489503402\n",
      "Model:  XGBoost  | MAE:  4639.009940715039\n",
      "Model:  XGBoost  | MSE  6761.439755989456\n",
      "Model:  XGBoost  | RMSE  82.22797429092763\n",
      "Model:  XGBoost  | R2  0.6833480790920745\n",
      "----------------\n"
     ]
    }
   ],
   "source": [
    "\n",
    "for name, model in models:\n",
    "    pipelined_model = Pipeline([\n",
    "        ('pca', PCA(n_components = 3)),\n",
    "        (name, model)\n",
    "    ])\n",
    "\n",
    "    # Training des Models\n",
    "    pipelined_model.fit(X_train, y_train)\n",
    "\n",
    "    # Vorhersage des trainierten models auf X_test\n",
    "    y_hat = pipelined_model.predict(X_test)\n",
    "\n",
    "    # Berechnung der verschiedenen Messwerte resp. KPI's\n",
    "    EVS = (explained_variance_score(y_test, y_hat))\n",
    "    ME = (max_error(y_test, y_hat))\n",
    "    MAE = (mean_absolute_error(y_test, y_hat))\n",
    "    MSE = np.sqrt(mean_squared_error(y_test, y_hat, squared=True))\n",
    "    RMSE = np.sqrt(mean_squared_error(y_test, y_hat, squared=False))\n",
    "    R2 = r2_score(y_test, y_hat)\n",
    "    print('Model: ', name, ' | EVS: ', EVS)\n",
    "    print('Model: ', name, ' | ME: ', ME)\n",
    "    print('Model: ', name, ' | MAE: ', MAE)\n",
    "    print('Model: ', name, ' | MSE ', MSE)\n",
    "    print('Model: ', name, ' | RMSE ', RMSE)\n",
    "    print('Model: ', name, ' | R2 ', R2)\n",
    "    print('----------------')"
   ]
  },
  {
   "cell_type": "code",
   "execution_count": 39,
   "metadata": {
    "collapsed": false,
    "jupyter": {
     "outputs_hidden": false
    },
    "pycharm": {
     "is_executing": true,
     "name": "#%%\n"
    }
   },
   "outputs": [
    {
     "name": "stdout",
     "output_type": "stream",
     "text": [
      "Benchmark: -0.000075 (0.000056)\n",
      "LR: 0.413713 (0.007477)\n",
      "Ridge: 0.413713 (0.007477)\n",
      "Bayesian Ridge: 0.413713 (0.007476)\n",
      "Lasso: 0.413712 (0.007474)\n",
      "Elastic Net: 0.368650 (0.006017)\n",
      "Nearest Neighbors (KNN) regression: 0.320139 (0.009805)\n"
     ]
    },
    {
     "name": "stderr",
     "output_type": "stream",
     "text": [
      "C:\\Users\\dakol\\anaconda3\\lib\\site-packages\\xgboost\\data.py:250: FutureWarning: pandas.Int64Index is deprecated and will be removed from pandas in a future version. Use pandas.Index with the appropriate dtype instead.\n",
      "  elif isinstance(data.columns, (pd.Int64Index, pd.RangeIndex)):\n",
      "C:\\Users\\dakol\\anaconda3\\lib\\site-packages\\xgboost\\data.py:250: FutureWarning: pandas.Int64Index is deprecated and will be removed from pandas in a future version. Use pandas.Index with the appropriate dtype instead.\n",
      "  elif isinstance(data.columns, (pd.Int64Index, pd.RangeIndex)):\n",
      "C:\\Users\\dakol\\anaconda3\\lib\\site-packages\\xgboost\\data.py:250: FutureWarning: pandas.Int64Index is deprecated and will be removed from pandas in a future version. Use pandas.Index with the appropriate dtype instead.\n",
      "  elif isinstance(data.columns, (pd.Int64Index, pd.RangeIndex)):\n",
      "C:\\Users\\dakol\\anaconda3\\lib\\site-packages\\xgboost\\data.py:250: FutureWarning: pandas.Int64Index is deprecated and will be removed from pandas in a future version. Use pandas.Index with the appropriate dtype instead.\n",
      "  elif isinstance(data.columns, (pd.Int64Index, pd.RangeIndex)):\n",
      "C:\\Users\\dakol\\anaconda3\\lib\\site-packages\\xgboost\\data.py:250: FutureWarning: pandas.Int64Index is deprecated and will be removed from pandas in a future version. Use pandas.Index with the appropriate dtype instead.\n",
      "  elif isinstance(data.columns, (pd.Int64Index, pd.RangeIndex)):\n",
      "C:\\Users\\dakol\\anaconda3\\lib\\site-packages\\xgboost\\data.py:250: FutureWarning: pandas.Int64Index is deprecated and will be removed from pandas in a future version. Use pandas.Index with the appropriate dtype instead.\n",
      "  elif isinstance(data.columns, (pd.Int64Index, pd.RangeIndex)):\n",
      "C:\\Users\\dakol\\anaconda3\\lib\\site-packages\\xgboost\\data.py:250: FutureWarning: pandas.Int64Index is deprecated and will be removed from pandas in a future version. Use pandas.Index with the appropriate dtype instead.\n",
      "  elif isinstance(data.columns, (pd.Int64Index, pd.RangeIndex)):\n",
      "C:\\Users\\dakol\\anaconda3\\lib\\site-packages\\xgboost\\data.py:250: FutureWarning: pandas.Int64Index is deprecated and will be removed from pandas in a future version. Use pandas.Index with the appropriate dtype instead.\n",
      "  elif isinstance(data.columns, (pd.Int64Index, pd.RangeIndex)):\n",
      "C:\\Users\\dakol\\anaconda3\\lib\\site-packages\\xgboost\\data.py:250: FutureWarning: pandas.Int64Index is deprecated and will be removed from pandas in a future version. Use pandas.Index with the appropriate dtype instead.\n",
      "  elif isinstance(data.columns, (pd.Int64Index, pd.RangeIndex)):\n",
      "C:\\Users\\dakol\\anaconda3\\lib\\site-packages\\xgboost\\data.py:250: FutureWarning: pandas.Int64Index is deprecated and will be removed from pandas in a future version. Use pandas.Index with the appropriate dtype instead.\n",
      "  elif isinstance(data.columns, (pd.Int64Index, pd.RangeIndex)):\n"
     ]
    },
    {
     "name": "stdout",
     "output_type": "stream",
     "text": [
      "XGBoost: 0.760018 (0.003851)\n"
     ]
    }
   ],
   "source": [
    "results = []\n",
    "names = []\n",
    "for name, model in models:\n",
    "    if 'Tree' in name or 'Forest' in name:\n",
    "        # skip tree based models as they take very (very) long\n",
    "        continue\n",
    "    kfold = KFold(n_splits=10, random_state=7, shuffle=True)\n",
    "    cv_results = cross_val_score(model, X, y, cv=kfold, scoring='r2')\n",
    "    results.append(cv_results)\n",
    "    names.append(name)\n",
    "    msg = \"%s: %f (%f)\" % (name, cv_results.mean(), cv_results.std())\n",
    "    print(msg)"
   ]
  },
  {
   "cell_type": "code",
   "execution_count": 42,
   "metadata": {},
   "outputs": [],
   "source": [
    "# Comparison\n",
    "# Gut erklärung hier: https://www.jedox.com/de/blog/fehlermasze-guete-von-forecasts-ermitteln/#rmse\n",
    "\n",
    "# EVS = In der Statistik misst die erklärte Variation den Anteil, zu dem ein mathematisches Modell die Variation eines bestimmten Datensatzes berücksichtigt. Bester Score wäre 1.0\n",
    "# ME: Zeigt den schlimmsten (grössten) Fehler zwischen dem vorhergesagten Wert und dem wahren Wert an. Bsp: True 100'000, predicted: 70'000 = ME=30'000\n",
    "# MAE: berechnet den mittleren absoluten Fehler. Der MAE beschreibt lediglich die Höhe der Abweichung der Vorhersage von der Beobachtung, nicht jedoch die Abweichungsrichtung (positive oder negative Abweichung)\n",
    "# MSE: Der Mean Squared Error, kurz MSE, ist definiert als der erwartete quadratische Abstand des Schätzwerts. Er wird auch als die Metrik definiert, die die Qualität des Prognosemodells oder Prädiktors bewertet.\n",
    "# RMSE: Der Root Mean Squared Error, kurz RMSE, ist eine Erweiterung von MSE und ist definiert als die Quadratwurzel des mittleren quadratischen Fehlers.\n",
    "# R2:  Das R² gibt an, wie gut die unabhängige(n) Variable(n) geeignet sind, die Varianz der abhängigen zu erklären. \n",
    "\n",
    "# Interpretation\n",
    "\n",
    "# Grunsätzlich sind alle Modelle schlecht am Performen. Es besteht ein underfitting. Es sollten mehr Features verwendet werden um ein komplexeres Modell zu gestalten oder mit Hyperparameter mehr Komplexität in die Modelle gebracht werden. \n",
    "# Grundsätzlich Decision Tree das Modell welches am wenigsten mit der Varianz des Datensatzes klarkommt (EVS) im vergleich zum Random Forest und XGBoost. \n",
    "# Durchnsittlich 6761 bzw. 6972 Punkte abweichung vom Predicteden Wert (MSE). Schwierig zu interpretieren, da wir Autos haben die wenig kosten (unter 20k) bzw. Autos die einiges mehr kosten (120k).\n",
    "\n",
    "# Nächste mögliche Schritt\n",
    "\n",
    "# Use the random grid to search for best hyperparameters (RandomizedSearchCV)\n",
    "# Select new Dataset on Type of Car (SUV, Kombi, Cabrios etc.) and train them in diffrent Dataframes /at the moment, diffrent Cartypes are mixed). \n",
    "# Herausfinden, welche Datensätze am schlechtesten Predicted werden. Anschliessend entscheiden, ob sie ausgeschlossen werden können vom Modell (evtl. eine spzeille Gruppierung von Daten?)"
   ]
  },
  {
   "cell_type": "code",
   "execution_count": 41,
   "metadata": {},
   "outputs": [
    {
     "data": {
      "image/jpeg": "[encoded data removed]",
      "text/plain": [
       "<IPython.core.display.Image object>"
      ]
     },
     "execution_count": 41,
     "metadata": {
      "image/jpeg": {
       "width": 400
      }
     },
     "output_type": "execute_result"
    }
   ],
   "source": [
    "from IPython.display import Image\n",
    "Image(\"pictures/bias.JPG\", width=400)\n",
    "# Good graphic to understand the importance of the BIAS \n",
    "# First figure in Scott Fortmann-Roe’s Understanding the Bias-Variance Tradeoff. June 2012"
   ]
  },
  {
   "cell_type": "code",
   "execution_count": null,
   "metadata": {},
   "outputs": [],
   "source": []
  }
 ],
 "metadata": {
  "kernelspec": {
   "display_name": "Python 3 (ipykernel)",
   "language": "python",
   "name": "python3"
  },
  "language_info": {
   "codemirror_mode": {
    "name": "ipython",
    "version": 3
   },
   "file_extension": ".py",
   "mimetype": "text/x-python",
   "name": "python",
   "nbconvert_exporter": "python",
   "pygments_lexer": "ipython3",
   "version": "3.8.12"
  }
 },
 "nbformat": 4,
 "nbformat_minor": 4
}
